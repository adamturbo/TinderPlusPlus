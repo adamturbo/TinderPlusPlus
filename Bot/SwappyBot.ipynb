{
 "cells": [
  {
   "cell_type": "code",
   "execution_count": 1,
   "metadata": {},
   "outputs": [
    {
     "name": "stdout",
     "output_type": "stream",
     "text": [
      "Requirement already satisfied: pynput in d:\\anaconda3\\lib\\site-packages (1.7.3)\n",
      "Requirement already satisfied: six in d:\\anaconda3\\lib\\site-packages (from pynput) (1.15.0)\n"
     ]
    }
   ],
   "source": [
    "!pip install pynput"
   ]
  },
  {
   "cell_type": "code",
   "execution_count": 24,
   "metadata": {},
   "outputs": [],
   "source": [
    "from pynput.mouse import Controller, Button, Listener\n",
    "import time"
   ]
  },
  {
   "cell_type": "code",
   "execution_count": 25,
   "metadata": {},
   "outputs": [],
   "source": [
    "profilLikes = 0\n",
    "\n",
    "def on_click(x,y,button,pressed):\n",
    "    if pressed:\n",
    "        print(\"Mouse Clicked {0} {1}\".format(x,y))\n",
    "\n",
    "def swapBot(profilLikes):\n",
    "    x_coordonate = 1457;\n",
    "    y_coordonate = 646;\n",
    "    \n",
    "    mouse = Controller()\n",
    "    move(mouse, 1510, 646)\n",
    "    time.sleep(5)\n",
    "    mouse.scroll(0, -2)\n",
    "    time.sleep(2)\n",
    "    move(mouse, 1533, 760)\n",
    "    time.sleep(2)\n",
    "    move(mouse, 1461, 536)\n",
    "    time.sleep(2)\n",
    "    profilLikes+=1\n",
    "    \n",
    "    return profilLikes\n",
    "\n",
    "def move(mouse, x, y):\n",
    "    mouse.position = (x, y)\n",
    "    mouse.click(Button.left, 1) \n",
    "    \n",
    "while profilLikes < 2:\n",
    "    profilLikes = swapBot(profilLikes)"
   ]
  },
  {
   "cell_type": "code",
   "execution_count": null,
   "metadata": {},
   "outputs": [],
   "source": []
  }
 ],
 "metadata": {
  "kernelspec": {
   "display_name": "Python 3",
   "language": "python",
   "name": "python3"
  },
  "language_info": {
   "codemirror_mode": {
    "name": "ipython",
    "version": 3
   },
   "file_extension": ".py",
   "mimetype": "text/x-python",
   "name": "python",
   "nbconvert_exporter": "python",
   "pygments_lexer": "ipython3",
   "version": "3.8.3"
  }
 },
 "nbformat": 4,
 "nbformat_minor": 4
}
