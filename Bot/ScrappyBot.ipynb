{
 "cells": [
  {
   "cell_type": "code",
   "execution_count": 2,
   "metadata": {},
   "outputs": [],
   "source": [
    "from selenium import webdriver\n",
    "import urllib.request\n",
    "import time\n",
    "import random\n",
    "\n",
    "from selenium.webdriver.common.action_chains import ActionChains\n",
    "from selenium.webdriver.common.keys import Keys\n",
    "\n",
    "from elasticsearch import Elasticsearch\n",
    "\n",
    "from tqdm import tqdm"
   ]
  },
  {
   "cell_type": "code",
   "execution_count": 3,
   "metadata": {},
   "outputs": [],
   "source": [
    "LOCAL = True\n",
    "es_client = Elasticsearch(hosts=[\"localhost\" if LOCAL else \"elasticsearch\"])"
   ]
  },
  {
   "cell_type": "code",
   "execution_count": 4,
   "metadata": {},
   "outputs": [],
   "source": [
    "IS_LINUX = False"
   ]
  },
  {
   "cell_type": "code",
   "execution_count": 6,
   "metadata": {},
   "outputs": [],
   "source": [
    "driver = webdriver.Firefox(executable_path=\"geckodriver.exe\" if not IS_LINUX else \"./chromedriver_linux\")\n",
    "\n",
    "##UA = 'Mozilla/5.0 (Windows NT 6.1; WOW64; rv:25.0) Gecko/20100101 Firefox/25.0'\n",
    "#PHANTOMJS_ARG = {'phantomjs.page.settings.userAgent': UA}\n",
    "\n",
    "#driver = webdriver.PhantomJS(desired_capabilities=PHANTOMJS_ARG)"
   ]
  },
  {
   "cell_type": "code",
   "execution_count": 7,
   "metadata": {},
   "outputs": [],
   "source": [
    "second_driver = webdriver.Firefox()\n",
    "second_driver.get(\"https://instagram.com/\")\n",
    "        \n",
    "insta_button = second_driver.find_element_by_xpath('//*[@class=\"aOOlW  bIiDR  \"]')\n",
    "insta_button.click()\n",
    "\n",
    "time.sleep(2)\n",
    "second_driver.find_element_by_name(\"username\").send_keys(\"VinLoring@gmail.com\")\n",
    "time.sleep(2)\n",
    "second_driver.find_element_by_name(\"password\").send_keys(\"Tinder123\")\n",
    "\n",
    "insta_button_connect = second_driver.find_element_by_xpath('//*[@class=\"sqdOP  L3NKy   y3zKF     \"]').click()"
   ]
  },
  {
   "cell_type": "markdown",
   "metadata": {},
   "source": [
    "### Connexion "
   ]
  },
  {
   "cell_type": "code",
   "execution_count": 83,
   "metadata": {
    "scrolled": true
   },
   "outputs": [],
   "source": [
    "driver.get(\"https://tinder.com/app/recs\")"
   ]
  },
  {
   "cell_type": "code",
   "execution_count": 85,
   "metadata": {},
   "outputs": [],
   "source": [
    "classbutton = \"button Lts($ls-s) Z(0) CenterAlign Mx(a) Cur(p) Tt(u) Ell Px(24px) Px(20px)--s Py(0) Bdrs(0) Mih(40px) Fw($semibold) focus-button-style Fz($s) Bdrs(4px) Bg(#fff) C($c-pink) Bg($primary-gradient):h C(#fff):h\"\n",
    "python_button = driver.find_element_by_xpath('//*[@class=\"'+ classbutton +'\"]')\n",
    "python_button.click()"
   ]
  },
  {
   "cell_type": "code",
   "execution_count": 86,
   "metadata": {},
   "outputs": [],
   "source": [
    "connect_phone_number = \"Connexion avec un numéro de tél.\"\n",
    "python_button = driver.find_element_by_xpath('//*[@aria-label=\"'+ connect_phone_number +'\"]')\n",
    "python_button.click()"
   ]
  },
  {
   "cell_type": "code",
   "execution_count": 87,
   "metadata": {},
   "outputs": [],
   "source": [
    "driver.switch_to.default_content()\n",
    "driver.switch_to.frame(driver.find_element_by_tag_name(\"iframe\"))\n",
    "driver.switch_to.frame(driver.find_element_by_tag_name(\"iframe\"))\n",
    "driver.switch_to.frame(driver.find_element_by_tag_name(\"iframe\"))"
   ]
  },
  {
   "cell_type": "code",
   "execution_count": 88,
   "metadata": {},
   "outputs": [],
   "source": [
    "python_button = driver.find_element_by_id(\"home_children_button\")\n",
    "python_button.click()"
   ]
  },
  {
   "cell_type": "markdown",
   "metadata": {},
   "source": [
    "### TakeCaptcha\n",
    "Ignorer cette cell"
   ]
  },
  {
   "cell_type": "code",
   "execution_count": 11,
   "metadata": {},
   "outputs": [],
   "source": [
    "### IGNORER CETTE CELL\n",
    "i = 11\n",
    "\n",
    "img = driver.find_element_by_id(\"game_challengeItem_image\")\n",
    "src = img.get_attribute('src')\n",
    "name = \"image_0\" + str(i) + \".png\"\n",
    "urllib.request.urlretrieve(src, name)\n",
    "i += 1\n",
    "\n",
    "filedata = urllib.request.urlopen(src)\n",
    "datatowrite = filedata.read()\n",
    " \n",
    "with open('/projet/ESGI/3ESGI/NoSQL/BotCapcha/' + name, 'wb') as f:\n",
    "    f.write(datatowrite)\n",
    "\n",
    "### IGNORER CETTE CELL"
   ]
  },
  {
   "cell_type": "code",
   "execution_count": 90,
   "metadata": {},
   "outputs": [],
   "source": [
    "driver.switch_to.default_content()\n",
    "phone_element = driver.find_element_by_name(\"phone_number\")\n",
    "phone_element.send_keys(\"0695776028\")"
   ]
  },
  {
   "cell_type": "code",
   "execution_count": 91,
   "metadata": {},
   "outputs": [],
   "source": [
    "def TakeInstagram():\n",
    "    try:\n",
    "        class_desc = \"P(16px) Ta(start) Us(t) C($c-secondary) BreakWord Whs(pl) Fz($ms)\"\n",
    "        takedesc = driver.find_element_by_xpath('//*[@class=\"'+ class_desc +'\"]')\n",
    "        takedesc = takedesc.find_elements_by_css_selector(\"*\")\n",
    "\n",
    "        insta_list = [ \"📷 \", \"📸 \", \"📷: \", \"📸: \", \"📷 : \", \"📸 : \",\"@\",\n",
    "            \"IG: \", \"Ig: \",\"ig: \", \"insta: \", \"instagram: \", \"Insta: \", \"Instagram: \", \"INSTA: \", \"INSTAGRAM: \",\n",
    "            \"IG, \", \"Ig, \",\"ig, \", \"insta, \", \"instagram, \", \"Insta, \", \"Instagram, \", \"INSTA, \", \"INSTAGRAM: \",\n",
    "            \"IG,\", \"Ig,\",\"ig,\", \"insta,\", \"instagram,\", \"Insta,\", \"Instagram,\", \"INSTA,\", \"INSTAGRAM,\",\n",
    "            \"IG:\", \"Ig:\",\"ig:\", \"insta:\", \"instagram:\", \"Insta:\", \"Instagram:\", \"INSTA:\", \"INSTAGRAM:\",\n",
    "            \"IG : \", \"Ig : \", \"ig : \", \"insta : \", \"instagram : \", \"Insta : \", \"Instagram : \", \"INSTA : \", \"INSTAGRAM : \",\n",
    "            \"IG :\", \"Ig :\",\"ig :\", \"insta :\", \"instagram :\", \"Insta :\", \"Instagram :\", \"INSTA :\", \"INSTAGRAM :\",\n",
    "            \"IG \", \"Ig \",\"ig \", \"insta \", \"instagram \", \"Insta \", \"Instagram \", \"INSTA  \", \"INSTAGRAM \"]\n",
    "\n",
    "        description = takedesc[0].text\n",
    "        instagram = \"\"\n",
    "        description = description.split(\"\\n\")\n",
    "\n",
    "        for desc_split in description:\n",
    "\n",
    "            for insta_occurent in insta_list:\n",
    "\n",
    "                result = desc_split.find(insta_occurent, 0, len(desc_split))\n",
    "                if result != -1:\n",
    "                    start = result + len(insta_occurent)\n",
    "                    instagram = desc_split[start: len(desc_split)]\n",
    "                    break\n",
    "\n",
    "        instagramlist = instagram.split(\" \")\n",
    "\n",
    "        for word in instagramlist:\n",
    "            \n",
    "            if word != \" \" and word != \"\" and word != \"➡️\":\n",
    "                instagram = word;\n",
    "                break\n",
    "        instagram = instagram.replace(\"(\", \"\").replace(\")\", \"\").replace(\"/\", \"\")\n",
    "        return instagram\n",
    "    \n",
    "    except:\n",
    "        \n",
    "        return \"\""
   ]
  },
  {
   "cell_type": "code",
   "execution_count": 92,
   "metadata": {},
   "outputs": [],
   "source": [
    "def TakeTag():\n",
    "    try:\n",
    "        class_tag = \"Mt(4px)\"\n",
    "        taketag = driver.find_element_by_xpath('//*[@class=\"'+ class_tag +'\"]')\n",
    "        taketag = taketag.find_elements_by_css_selector(\"*\")\n",
    "        \n",
    "        list_tag = []\n",
    "        \n",
    "        for tag in taketag:\n",
    "            list_tag.append(tag.text)\n",
    "        \n",
    "        \n",
    "        return list_tag\n",
    "    \n",
    "    except:\n",
    "        \n",
    "        return []"
   ]
  },
  {
   "cell_type": "code",
   "execution_count": 93,
   "metadata": {},
   "outputs": [],
   "source": [
    "def TakeName():\n",
    "    try:\n",
    "        class_name = \"Fz($xl) Fw($bold) Fxs(1) Fxw(w) Pend(8px) M(0) D(i)\"\n",
    "        takename = driver.find_element_by_xpath('//*[@class=\"'+ class_name +'\"]')\n",
    "        \n",
    "        return takename.text\n",
    "    \n",
    "    except:\n",
    "        \n",
    "        return \"\""
   ]
  },
  {
   "cell_type": "code",
   "execution_count": 94,
   "metadata": {},
   "outputs": [],
   "source": [
    "def TakeAge():\n",
    "    try:\n",
    "        class_age = \"Whs(nw) Fz($l)\"\n",
    "        takeage = driver.find_element_by_xpath('//*[@class=\"'+ class_age +'\"]')\n",
    "        \n",
    "        return takeage.text\n",
    "    \n",
    "    except:\n",
    "        \n",
    "        return \"\""
   ]
  },
  {
   "cell_type": "markdown",
   "metadata": {},
   "source": [
    "### INSTAGRAM Picture"
   ]
  },
  {
   "cell_type": "code",
   "execution_count": 121,
   "metadata": {},
   "outputs": [],
   "source": [
    "def TakePicture(_data):\n",
    "    try:\n",
    "    \n",
    "        second_driver.get(\"https://instagram.com/\" + _data)        \n",
    "                \n",
    "        try:\n",
    "            insta_picture_balise = second_driver.find_element_by_xpath('//*[@class=\"be6sR\"]')\n",
    "            insta_picture = insta_picture_balise.get_attribute(\"src\")\n",
    "            return insta_picture\n",
    "        except:\n",
    "            pass\n",
    "        \n",
    "        insta_picture_balise = second_driver.find_element_by_xpath('//*[@class=\"_6q-tv\"]')\n",
    "            \n",
    "        insta_picture = insta_picture_balise.get_attribute(\"src\")\n",
    "        \n",
    "        try:\n",
    "            fail = second_driver.find_element_by_xpath('//*[@class=\"_7UhW9      x-6xq    qyrsm KV-D4          uL8Hv     l4b0S    \"]')\n",
    "            return \"\"\n",
    "        except:\n",
    "            return insta_picture\n",
    "    \n",
    "    except:\n",
    "        \n",
    "        return \"\""
   ]
  },
  {
   "cell_type": "code",
   "execution_count": 96,
   "metadata": {},
   "outputs": [],
   "source": [
    "def PushDataBase(data):\n",
    "    es_client.index(index=\"tinderplusplus\", doc_type='algo', id=None, body=data)"
   ]
  },
  {
   "cell_type": "code",
   "execution_count": 103,
   "metadata": {},
   "outputs": [
    {
     "name": "stderr",
     "output_type": "stream",
     "text": [
      "100%|████████████████████████████████████████████████████████████████████████████████| 250/250 [23:18<00:00,  5.60s/it]\n"
     ]
    }
   ],
   "source": [
    "for i in tqdm(range(250)):\n",
    "    driver.switch_to.default_content()\n",
    "    actions = ActionChains(driver)\n",
    "    actions.send_keys(Keys.ARROW_UP + 't')\n",
    "    actions.perform()\n",
    "    insta = TakeInstagram()\n",
    "    if insta != \"\":\n",
    "        tag = TakeTag()\n",
    "        name = TakeName()\n",
    "        age = TakeAge()\n",
    "        picture = TakePicture(insta)\n",
    "\n",
    "        data = {\n",
    "            \"name\": name,\n",
    "            \"instagram\": insta,\n",
    "            \"age\": age,\n",
    "            \"picture\": picture,\n",
    "            \"tag\": tag\n",
    "        }\n",
    "        #print(data)\n",
    "\n",
    "        if picture != \"\":\n",
    "            PushDataBase(data)\n",
    "\n",
    "    rnd = random.randrange(1,5)   \n",
    "\n",
    "    time.sleep(rnd)\n",
    "    #actions.send_keys(Keys.ARROW_RIGHT + 't')\n",
    "    actions.send_keys(Keys.ARROW_LEFT + 't')\n",
    "    actions.perform()   \n",
    "    time.sleep(2)"
   ]
  },
  {
   "cell_type": "markdown",
   "metadata": {},
   "source": [
    "### View Result"
   ]
  },
  {
   "cell_type": "code",
   "execution_count": 124,
   "metadata": {},
   "outputs": [
    {
     "data": {
      "text/plain": [
       "138"
      ]
     },
     "execution_count": 124,
     "metadata": {},
     "output_type": "execute_result"
    }
   ],
   "source": [
    "es_client.count(index='tinderplusplus', doc_type='algo')[\"count\"]"
   ]
  },
  {
   "cell_type": "code",
   "execution_count": 125,
   "metadata": {},
   "outputs": [
    {
     "name": "stdout",
     "output_type": "stream",
     "text": [
      "Name : Justine\n",
      "Age : 21\n",
      "Picture : https://scontent-cdt1-1.cdninstagram.com/v/t51.2885-19/s150x150/170255509_458354632090208_1002350921031788669_n.jpg?tp=1&_nc_ht=scontent-cdt1-1.cdninstagram.com&_nc_ohc=dYzc6I9K-WwAX9k2IOg&edm=ABfd0MgAAAAA&ccb=7-4&oh=7d7e4b61e431465da9a85ad439660000&oe=60A8DFF8&_nc_sid=7bff83 \n",
      "Instagram : justinemarietti \n",
      "Tags : [] \n",
      "\n",
      "******************\n",
      "Name : Jane\n",
      "Age : 19\n",
      "Picture : https://scontent-cdt1-1.cdninstagram.com/v/t51.2885-19/s150x150/176260595_303035874825339_3481111206279916654_n.jpg?tp=1&_nc_ht=scontent-cdt1-1.cdninstagram.com&_nc_ohc=NBehvkzstscAX9dzuFY&edm=ABfd0MgAAAAA&ccb=7-4&oh=5674865990ca6d2d8e82355039d441c7&oe=60AA523D&_nc_sid=7bff83 \n",
      "Instagram : coucoumarcelle \n",
      "Tags : [] \n",
      "\n",
      "******************\n",
      "Name : Nawel\n",
      "Age : 19\n",
      "Picture : https://scontent-cdt1-1.cdninstagram.com/v/t51.2885-19/s150x150/175667249_286658703001890_3316549894713292436_n.jpg?tp=1&_nc_ht=scontent-cdt1-1.cdninstagram.com&_nc_ohc=iQgulBbrQJ8AX9jmI03&edm=ABfd0MgAAAAA&ccb=7-4&oh=b50a556467151083668a559b45c07290&oe=60A865E9&_nc_sid=7bff83 \n",
      "Instagram : naw_f2020 \n",
      "Tags : ['Écrivain(e)', 'Quiz et culture générale', 'Art', 'Théâtre', 'Lecture'] \n",
      "\n",
      "******************\n",
      "Name : Lea\n",
      "Age : 18\n",
      "Picture : https://scontent-cdt1-1.cdninstagram.com/v/t51.2885-19/s150x150/164877930_346629096764941_369271768810881369_n.jpg?tp=1&_nc_ht=scontent-cdt1-1.cdninstagram.com&_nc_ohc=XX1eQDbXHc0AX-CtJ3j&edm=ABfd0MgAAAAA&ccb=7-4&oh=f57b5476bb70e58cc0ce62b681f6d8b3&oe=60A955B7&_nc_sid=7bff83 \n",
      "Instagram : lejilo_ \n",
      "Tags : ['Netflix', 'Astrologie', 'Mode', 'Sushi', 'Sur la piste'] \n",
      "\n",
      "******************\n",
      "Name : Ema\n",
      "Age : 22\n",
      "Picture : https://scontent-cdt1-1.cdninstagram.com/v/t51.2885-19/s150x150/176260595_303035874825339_3481111206279916654_n.jpg?tp=1&_nc_ht=scontent-cdt1-1.cdninstagram.com&_nc_ohc=NBehvkzstscAX9dzuFY&edm=ABfd0MgAAAAA&ccb=7-4&oh=5674865990ca6d2d8e82355039d441c7&oe=60AA523D&_nc_sid=7bff83 \n",
      "Instagram : emadelage \n",
      "Tags : ['Expositions', 'Gastronomie', 'Photographie', 'Vin', 'Toujours partant(e)'] \n",
      "\n",
      "******************\n",
      "Name : Laury\n",
      "Age : 19\n",
      "Picture : https://scontent-cdt1-1.cdninstagram.com/v/t51.2885-19/s150x150/70397507_2154880494806199_5101106879065489408_n.jpg?tp=1&_nc_ht=scontent-cdt1-1.cdninstagram.com&_nc_ohc=gkUkJ3UgE78AX9HC2GJ&edm=ABfd0MgAAAAA&ccb=7-4&oh=ca21a6541933b37981be5747c02538c4&oe=60AB2738&_nc_sid=7bff83 \n",
      "Instagram : laury_rdg \n",
      "Tags : ['Musée', 'Sports', 'Voyage', 'Art', 'Astrologie'] \n",
      "\n",
      "******************\n",
      "Name : Emilie\n",
      "Age : 19\n",
      "Picture : https://scontent-cdt1-1.cdninstagram.com/v/t51.2885-19/s150x150/170617243_913728706059821_7114079242222546194_n.jpg?tp=1&_nc_ht=scontent-cdt1-1.cdninstagram.com&_nc_ohc=J7nuIuzBgDcAX9p1M95&edm=ABfd0MgAAAAA&ccb=7-4&oh=349e4a72a409c343f5ffad63b06f551b&oe=60AAFB0B&_nc_sid=7bff83 \n",
      "Instagram : e____emie \n",
      "Tags : [] \n",
      "\n",
      "******************\n",
      "Name : Cléa\n",
      "Age : 19\n",
      "Picture : https://scontent-cdt1-1.cdninstagram.com/v/t51.2885-19/s150x150/164966315_155966636381616_1127362573462525201_n.jpg?tp=1&_nc_ht=scontent-cdt1-1.cdninstagram.com&_nc_ohc=PKYkYmeitgIAX-iJZJq&edm=ABfd0MgAAAAA&ccb=7-4&oh=1e1cda4b89e5de8db48010cd1f0e941a&oe=60AAC1ED&_nc_sid=7bff83 \n",
      "Instagram : clealfb \n",
      "Tags : ['Surf', 'Cuisine', 'Sport', 'Sneakers', 'Relations sérieuses'] \n",
      "\n",
      "******************\n",
      "Name : Lou\n",
      "Age : 18\n",
      "Picture : https://scontent-cdt1-1.cdninstagram.com/v/t51.2885-19/s150x150/175544652_933724687391038_6800130805814210437_n.jpg?tp=1&_nc_ht=scontent-cdt1-1.cdninstagram.com&_nc_ohc=bZkYx06Dz9IAX9VoNJ2&edm=ABfd0MgAAAAA&ccb=7-4&oh=2578c3a09fe3643971cef095276bccb7&oe=60AB59CC&_nc_sid=7bff83 \n",
      "Instagram : lourabier \n",
      "Tags : ['Fêtes', 'Théâtre', 'Comédie', 'Lecture', 'Personne à chien'] \n",
      "\n",
      "******************\n",
      "Name : Victória\n",
      "Age : 19\n",
      "Picture : https://scontent-cdt1-1.cdninstagram.com/v/t51.2885-19/s150x150/161768084_723625998310289_6906778254714372170_n.jpg?tp=1&_nc_ht=scontent-cdt1-1.cdninstagram.com&_nc_ohc=Si1HY71FDaoAX_C3ckr&edm=ABfd0MgAAAAA&ccb=7-4&oh=24bd6bfabd31473f91a738a1004a9a40&oe=60A818B6&_nc_sid=7bff83 \n",
      "Instagram : victoria_canevari \n",
      "Tags : ['Netflix', 'Musique', 'Tatouages', 'Globe-trotteur(se)', 'Cuisine'] \n",
      "\n",
      "******************\n"
     ]
    }
   ],
   "source": [
    "try:\n",
    "    result = es_client.search(index=\"tinderplusplus\", body={\"query\": {\"match_all\": {}}})\n",
    "    ids = []\n",
    "    for hit in result['hits']['hits']:\n",
    "        print(\"Name : {name}\\nAge : {age}\\nPicture : {picture} \\nInstagram : {instagram} \\nTags : {tag} \\n\".format(**hit['_source']))\n",
    "        print(\"******************\")\n",
    "        ids.append(hit[\"_id\"])\n",
    "except:\n",
    "     None"
   ]
  },
  {
   "cell_type": "markdown",
   "metadata": {},
   "source": [
    "### DELETE ALL "
   ]
  },
  {
   "cell_type": "code",
   "execution_count": 131,
   "metadata": {},
   "outputs": [
    {
     "data": {
      "text/plain": [
       "137"
      ]
     },
     "execution_count": 131,
     "metadata": {},
     "output_type": "execute_result"
    }
   ],
   "source": [
    "#es_client.indices.delete(index='tinderplusplus')\n",
    "es_client.count(index='tinderplusplus_prod', doc_type='algo')[\"count\"]\n",
    "#es_client.indices.delete(index='tinderplusplus_prod')"
   ]
  },
  {
   "cell_type": "markdown",
   "metadata": {},
   "source": [
    "### CLEAN DATA"
   ]
  },
  {
   "cell_type": "code",
   "execution_count": 55,
   "metadata": {},
   "outputs": [],
   "source": [
    "def CleanChar(_data):\n",
    "    deleteChar= [\"(\", \")\",\"'\", '\"', \" \",\":\",\"[\",\"]\"]\n",
    "    \n",
    "    for dc in deleteChar:\n",
    "        _data = _data.replace(dc, \"\")\n",
    "        \n",
    "    return _data"
   ]
  },
  {
   "cell_type": "code",
   "execution_count": 74,
   "metadata": {},
   "outputs": [],
   "source": [
    "def PushProdDataBase(data):\n",
    "    es_client.index(index=\"tinderplusplus_prod\", doc_type='algo', id=None, body=data)"
   ]
  },
  {
   "cell_type": "code",
   "execution_count": 130,
   "metadata": {},
   "outputs": [
    {
     "name": "stdout",
     "output_type": "stream",
     "text": [
      "{'name': 'Justine', 'instagram': 'justinemarietti', 'age': '21', 'picture': 'https://scontent-cdt1-1.cdninstagram.com/v/t51.2885-19/s150x150/170255509_458354632090208_1002350921031788669_n.jpg?tp=1&_nc_ht=scontent-cdt1-1.cdninstagram.com&_nc_ohc=dYzc6I9K-WwAX9k2IOg&edm=ABfd0MgAAAAA&ccb=7-4&oh=7d7e4b61e431465da9a85ad439660000&oe=60A8DFF8&_nc_sid=7bff83', 'tag': []}\n",
      "******************\n",
      "{'name': 'Jane', 'instagram': 'coucoumarcelle', 'age': '19', 'picture': 'https://scontent-cdt1-1.cdninstagram.com/v/t51.2885-19/s150x150/163261164_509848596678693_1743890992370821839_n.jpg?tp=1&_nc_ht=scontent-cdt1-1.cdninstagram.com&_nc_ohc=nNQ9UDsas9cAX9LqKzj&edm=ABfd0MgAAAAA&ccb=7-4&oh=3421db1da0c295ed7deeb1e7384c69dc&oe=60AAEF0D&_nc_sid=7bff83', 'tag': []}\n",
      "******************\n",
      "{'name': 'Nawel', 'instagram': 'naw_f2020', 'age': '19', 'picture': 'https://scontent-cdt1-1.cdninstagram.com/v/t51.2885-19/s150x150/175667249_286658703001890_3316549894713292436_n.jpg?tp=1&_nc_ht=scontent-cdt1-1.cdninstagram.com&_nc_ohc=iQgulBbrQJ8AX9jmI03&edm=ABfd0MgAAAAA&ccb=7-4&oh=b50a556467151083668a559b45c07290&oe=60A865E9&_nc_sid=7bff83', 'tag': ['Écrivain(e)', 'Quiz et culture générale', 'Art', 'Théâtre', 'Lecture']}\n",
      "******************\n",
      "{'name': 'Lea', 'instagram': 'lejilo_', 'age': '18', 'picture': 'https://scontent-cdt1-1.cdninstagram.com/v/t51.2885-19/s150x150/164877930_346629096764941_369271768810881369_n.jpg?tp=1&_nc_ht=scontent-cdt1-1.cdninstagram.com&_nc_ohc=XX1eQDbXHc0AX-CtJ3j&edm=ABfd0MgAAAAA&ccb=7-4&oh=f57b5476bb70e58cc0ce62b681f6d8b3&oe=60A955B7&_nc_sid=7bff83', 'tag': ['Netflix', 'Astrologie', 'Mode', 'Sushi', 'Sur la piste']}\n",
      "******************\n",
      "{'name': 'Ema', 'instagram': 'emadelage', 'age': '22', 'picture': 'https://scontent-cdt1-1.cdninstagram.com/v/t51.2885-19/s150x150/135630168_221771062997795_2110121621611424699_n.jpg?tp=1&_nc_ht=scontent-cdt1-1.cdninstagram.com&_nc_ohc=3Jn_g50MbEQAX_9WwN8&edm=ABfd0MgAAAAA&ccb=7-4&oh=13ec5610324e23afd39fae11f550987f&oe=60AB25BE&_nc_sid=7bff83', 'tag': ['Expositions', 'Gastronomie', 'Photographie', 'Vin', 'Toujours partant(e)']}\n",
      "******************\n",
      "{'name': 'Laury', 'instagram': 'laury_rdg', 'age': '19', 'picture': 'https://scontent-cdt1-1.cdninstagram.com/v/t51.2885-19/s150x150/70397507_2154880494806199_5101106879065489408_n.jpg?tp=1&_nc_ht=scontent-cdt1-1.cdninstagram.com&_nc_ohc=gkUkJ3UgE78AX9HC2GJ&tn=3oFp44imCUhZo5oI&edm=ABfd0MgAAAAA&ccb=7-4&oh=0afe515ba9034778834b9f4823e7cf81&oe=60AB2738&_nc_sid=7bff83', 'tag': ['Musée', 'Sports', 'Voyage', 'Art', 'Astrologie']}\n",
      "******************\n",
      "{'name': 'Emilie', 'instagram': 'e____emie', 'age': '19', 'picture': 'https://scontent-cdt1-1.cdninstagram.com/v/t51.2885-19/s150x150/170617243_913728706059821_7114079242222546194_n.jpg?tp=1&_nc_ht=scontent-cdt1-1.cdninstagram.com&_nc_ohc=J7nuIuzBgDcAX9p1M95&edm=ABfd0MgAAAAA&ccb=7-4&oh=349e4a72a409c343f5ffad63b06f551b&oe=60AAFB0B&_nc_sid=7bff83', 'tag': []}\n",
      "******************\n",
      "{'name': 'Cléa', 'instagram': 'clealfb', 'age': '19', 'picture': 'https://scontent-cdt1-1.cdninstagram.com/v/t51.2885-19/s150x150/164966315_155966636381616_1127362573462525201_n.jpg?tp=1&_nc_ht=scontent-cdt1-1.cdninstagram.com&_nc_ohc=PKYkYmeitgIAX-iJZJq&edm=ABfd0MgAAAAA&ccb=7-4&oh=1e1cda4b89e5de8db48010cd1f0e941a&oe=60AAC1ED&_nc_sid=7bff83', 'tag': ['Surf', 'Cuisine', 'Sport', 'Sneakers', 'Relations sérieuses']}\n",
      "******************\n",
      "{'name': 'Lou', 'instagram': 'lourabier', 'age': '18', 'picture': 'https://scontent-cdt1-1.cdninstagram.com/v/t51.2885-19/s150x150/175544652_933724687391038_6800130805814210437_n.jpg?tp=1&_nc_ht=scontent-cdt1-1.cdninstagram.com&_nc_ohc=bZkYx06Dz9IAX9VoNJ2&edm=ABfd0MgAAAAA&ccb=7-4&oh=2578c3a09fe3643971cef095276bccb7&oe=60AB59CC&_nc_sid=7bff83', 'tag': ['Fêtes', 'Théâtre', 'Comédie', 'Lecture', 'Personne à chien']}\n",
      "******************\n",
      "{'name': 'Victória', 'instagram': 'victoria_canevari', 'age': '19', 'picture': 'https://scontent-cdt1-1.cdninstagram.com/v/t51.2885-19/s150x150/161768084_723625998310289_6906778254714372170_n.jpg?tp=1&_nc_ht=scontent-cdt1-1.cdninstagram.com&_nc_ohc=Si1HY71FDaoAX_C3ckr&edm=ABfd0MgAAAAA&ccb=7-4&oh=dcea2dabbb79c2e3478641fa704c559f&oe=60ABA7F6&_nc_sid=7bff83', 'tag': ['Netflix', 'Musique', 'Tatouages', 'Globe-trotteur(se)', 'Cuisine']}\n",
      "******************\n",
      "{'name': 'Julia', 'instagram': 'judws', 'age': '19', 'picture': 'https://scontent-cdt1-1.cdninstagram.com/v/t51.2885-19/s150x150/140308228_442473446881130_39108472003856407_n.jpg?tp=1&_nc_ht=scontent-cdt1-1.cdninstagram.com&_nc_ohc=lEnXyZ7vFZIAX8Gcosp&edm=ABfd0MgAAAAA&ccb=7-4&oh=3ffaec12581e8a68fcf5ec423d0c4e44&oe=60A98EE2&_nc_sid=7bff83', 'tag': ['Sport', 'Fêtes', 'Mode']}\n",
      "******************\n",
      "{'name': 'Kristina', 'instagram': 'kristinahoie', 'age': '19', 'picture': 'https://scontent-cdt1-1.cdninstagram.com/v/t51.2885-19/s150x150/175592827_151588043479851_5840529392050904699_n.jpg?tp=1&_nc_ht=scontent-cdt1-1.cdninstagram.com&_nc_ohc=JTj6LvcYgRQAX9wOhmi&edm=ABfd0MgAAAAA&ccb=7-4&oh=8a4e262f52fac56e7825db5789ae4dcf&oe=60A8C37D&_nc_sid=7bff83', 'tag': []}\n",
      "******************\n",
      "{'name': 'Amélie', 'instagram': 'amelie.grg', 'age': '19', 'picture': 'https://scontent-cdt1-1.cdninstagram.com/v/t51.2885-19/s150x150/171751376_2886606498248769_603191857845229585_n.jpg?tp=1&_nc_ht=scontent-cdt1-1.cdninstagram.com&_nc_ohc=5uYnjlrReb0AX_sXmp2&edm=ABfd0MgAAAAA&ccb=7-4&oh=afbc2b6c361e638320976c2fe3f425b9&oe=60AB09CD&_nc_sid=7bff83', 'tag': ['Netflix', 'Sneakers', 'Musique', 'Jeux vidéo', 'Personne à chat']}\n",
      "******************\n",
      "{'name': 'Ness', 'instagram': 'Nessouuu._p', 'age': '19', 'picture': 'https://scontent-cdt1-1.cdninstagram.com/v/t51.2885-19/s150x150/170787217_2913568435587567_9168053005110729255_n.jpg?tp=1&_nc_ht=scontent-cdt1-1.cdninstagram.com&_nc_ohc=ddK0XfIW4oMAX99fNfh&edm=ABfd0MgAAAAA&ccb=7-4&oh=e21fb873f9cc9ba8c41464bf882448bb&oe=60A8F93B&_nc_sid=7bff83', 'tag': []}\n",
      "******************\n",
      "{'name': 'Joséphine', 'instagram': 'jojo_tulipe', 'age': '19', 'picture': 'https://scontent-cdt1-1.cdninstagram.com/v/t51.2885-19/s150x150/162965805_234620578376339_1779886614477275696_n.jpg?tp=1&_nc_ht=scontent-cdt1-1.cdninstagram.com&_nc_ohc=s1h-kM7yLpgAX_fJEDy&edm=ABfd0MgAAAAA&ccb=7-4&oh=195cf905fe94cfdac9fdd5daa04500f6&oe=60AA0A2D&_nc_sid=7bff83', 'tag': ['Personne à chat', 'Fêtes', 'Prendre un verre']}\n",
      "******************\n",
      "{'name': 'Chloée', 'instagram': 'chloeettohe', 'age': '22', 'picture': 'https://scontent-cdt1-1.cdninstagram.com/v/t51.2885-19/s150x150/129724126_675700656442922_7089365178750806532_n.jpg?tp=1&_nc_ht=scontent-cdt1-1.cdninstagram.com&_nc_ohc=V_bKpcDgD6UAX-gH36L&edm=ABfd0MgAAAAA&ccb=7-4&oh=3612b25d2208fd9562fe675ef5aab125&oe=60A85D8B&_nc_sid=7bff83', 'tag': []}\n",
      "******************\n",
      "{'name': 'Romane', 'instagram': 'romanergt_', 'age': '20', 'picture': 'https://scontent-cdt1-1.cdninstagram.com/v/t51.2885-19/s150x150/158033743_419768299321845_4944427988558689987_n.jpg?tp=1&_nc_ht=scontent-cdt1-1.cdninstagram.com&_nc_ohc=-yeI03b6TPgAX9mLMzf&edm=ABfd0MgAAAAA&ccb=7-4&oh=01928b6f8778a6ce56da6d633d537730&oe=60A8CB34&_nc_sid=7bff83', 'tag': []}\n",
      "******************\n",
      "{'name': 'Mathilde', 'instagram': 'mtld_gm', 'age': '20', 'picture': 'https://scontent-cdt1-1.cdninstagram.com/v/t51.2885-19/s150x150/169115202_542681663365270_7127873078281797157_n.jpg?tp=1&_nc_ht=scontent-cdt1-1.cdninstagram.com&_nc_ohc=ENZS6TiFn78AX8NWrc6&edm=ABfd0MgAAAAA&ccb=7-4&oh=f39043fbfe8aecb42ad2118630672bd5&oe=60A84F8E&_nc_sid=7bff83', 'tag': []}\n",
      "******************\n",
      "{'name': 'Azkaa', 'instagram': 'urrhmna', 'age': '19', 'picture': 'https://scontent-cdt1-1.cdninstagram.com/v/t51.2885-19/s150x150/151003587_851572995422413_1462433852422391451_n.jpg?tp=1&_nc_ht=scontent-cdt1-1.cdninstagram.com&_nc_ohc=jwoRXw-61JAAX8km4if&edm=ABfd0MgAAAAA&ccb=7-4&oh=5b46896d97f3297fa63403003f2e384b&oe=60AA0E54&_nc_sid=7bff83', 'tag': ['Prendre un verre', 'Se faire des amis', 'Sushi', 'Fêtes', 'Expositions']}\n",
      "******************\n",
      "{'name': 'Pauline', 'instagram': 'Pau_blanchet', 'age': '19', 'picture': 'https://scontent-cdt1-1.cdninstagram.com/v/t51.2885-19/s150x150/167731306_3768294796621738_4143821977338261479_n.jpg?tp=1&_nc_ht=scontent-cdt1-1.cdninstagram.com&_nc_ohc=0F6lRS3DolgAX9rS1mX&edm=ABfd0MgAAAAA&ccb=7-4&oh=1b50ec1ddb9a3619ea7bc0dbbe003e38&oe=60A87A39&_nc_sid=7bff83', 'tag': ['Netflix', 'Personne à chien', 'Musique', 'Relations sérieuses', 'Mode']}\n"
     ]
    },
    {
     "name": "stdout",
     "output_type": "stream",
     "text": [
      "******************\n",
      "{'name': 'Juliette', 'instagram': 'juju.d78', 'age': '19', 'picture': 'https://scontent-cdt1-1.cdninstagram.com/v/t51.2885-19/s150x150/162987543_917063765773809_6680201999359072626_n.jpg?tp=1&_nc_ht=scontent-cdt1-1.cdninstagram.com&_nc_ohc=vdojelVvmIsAX9SORZG&edm=ABfd0MgAAAAA&ccb=7-4&oh=8969948fb7a2f56ce573c81450929d22&oe=60AA3A27&_nc_sid=7bff83', 'tag': ['Sport', 'Sneakers', 'Mode', 'Art', 'Tatouages']}\n",
      "******************\n",
      "{'name': 'Élise', 'instagram': 'bh_elise', 'age': '19', 'picture': 'https://scontent-cdt1-1.cdninstagram.com/v/t51.2885-19/s150x150/167710354_287694762924287_5300650153302628892_n.jpg?tp=1&_nc_ht=scontent-cdt1-1.cdninstagram.com&_nc_ohc=eh7X1hphf6gAX_MM8UY&edm=ABfd0MgAAAAA&ccb=7-4&oh=61cdba7f507f55628212773a666383b9&oe=60A924BF&_nc_sid=7bff83', 'tag': ['Fêtes', 'Shopping', 'Voyage']}\n",
      "******************\n",
      "{'name': 'Camille', 'instagram': 'camillefloch', 'age': '20', 'picture': 'https://scontent-cdt1-1.cdninstagram.com/v/t51.2885-19/s150x150/142900464_707781656587781_2318357517687207985_n.jpg?tp=1&_nc_ht=scontent-cdt1-1.cdninstagram.com&_nc_ohc=AwEnTTUVz0UAX9xmXJ-&edm=ABfd0MgAAAAA&ccb=7-4&oh=c4b865266ae4a6ffbcb92462ecab6a06&oe=60A9AD59&_nc_sid=7bff83', 'tag': []}\n",
      "******************\n",
      "{'name': 'Milena', 'instagram': 'milyfaneco', 'age': '19', 'picture': 'https://scontent-cdt1-1.cdninstagram.com/v/t51.2885-19/s150x150/176604741_215717656559042_2233094883489765984_n.jpg?tp=1&_nc_ht=scontent-cdt1-1.cdninstagram.com&_nc_ohc=avzV53dAXNAAX8ko9G2&edm=ABfd0MgAAAAA&ccb=7-4&oh=8b25091cc740d14828e5502efb475cea&oe=60A9F67F&_nc_sid=7bff83', 'tag': []}\n",
      "******************\n",
      "{'name': 'Célia', 'instagram': '_celiagram_', 'age': '19', 'picture': 'https://scontent-cdt1-1.cdninstagram.com/v/t51.2885-19/s150x150/32366542_2119402241624763_8224302729011396608_n.jpg?tp=1&_nc_ht=scontent-cdt1-1.cdninstagram.com&_nc_ohc=cWdj7JHJzUoAX-LDrmg&edm=ABfd0MgAAAAA&ccb=7-4&oh=ccd8de717866724e6d109779c8e9b5ef&oe=60AABA0A&_nc_sid=7bff83', 'tag': ['Art', 'Mode', 'Fripes', 'Prendre un verre']}\n",
      "******************\n",
      "{'name': 'Adriana', 'instagram': '_andreiaamro', 'age': '27', 'picture': 'https://scontent-cdt1-1.cdninstagram.com/v/t51.2885-19/s150x150/154354909_154348066531553_3329698525326478292_n.jpg?tp=1&_nc_ht=scontent-cdt1-1.cdninstagram.com&_nc_ohc=BE-2hm23ivwAX_WAAJ2&edm=ABfd0MgAAAAA&ccb=7-4&oh=73853679513818070c7511afd57170bd&oe=60AB9AE1&_nc_sid=7bff83', 'tag': ['Netflix', 'Surf', 'Rencontres sans pression', 'Festivals', 'Shopping']}\n",
      "******************\n",
      "{'name': 'Solène', 'instagram': 'solxne_', 'age': '19', 'picture': 'https://scontent-cdt1-1.cdninstagram.com/v/t51.2885-19/s150x150/122025900_137461334742542_1095844837904225445_n.jpg?tp=1&_nc_ht=scontent-cdt1-1.cdninstagram.com&_nc_ohc=65LdlKKuxpkAX80TjnK&edm=ABfd0MgAAAAA&ccb=7-4&oh=831b99afe4cbd03d99a752b3666c6f59&oe=60AB9C2D&_nc_sid=7bff83', 'tag': ['Musique', 'Art', 'Fripes', 'Café']}\n",
      "******************\n",
      "{'name': 'Léa', 'instagram': '_leadl_', 'age': '19', 'picture': 'https://scontent-cdt1-1.cdninstagram.com/v/t51.2885-19/s150x150/175573248_829789534552740_366665752289372705_n.jpg?tp=1&_nc_ht=scontent-cdt1-1.cdninstagram.com&_nc_ohc=2ANRNwLMm-8AX-2rE5z&edm=ABfd0MgAAAAA&ccb=7-4&oh=3d80fda1ecf5ab0876eda1e93687e6e6&oe=60AA507C&_nc_sid=7bff83', 'tag': []}\n",
      "******************\n",
      "{'name': 'Alyssia', 'instagram': 'allyssiaa._', 'age': '19', 'picture': 'https://scontent-cdt1-1.cdninstagram.com/v/t51.2885-19/s150x150/168153555_3848497291913601_6293597424999863837_n.jpg?tp=1&_nc_ht=scontent-cdt1-1.cdninstagram.com&_nc_ohc=_n3zxgF5t8IAX_3Uu3v&edm=ABfd0MgAAAAA&ccb=7-4&oh=62464430dc2776c5c81a699d67a84f27&oe=60A9476C&_nc_sid=7bff83', 'tag': ['Netflix', 'Introverti(e)', 'Sushi', 'Brunch']}\n",
      "******************\n",
      "{'name': 'Marine', 'instagram': 'marine_fournier_', 'age': '18', 'picture': 'https://scontent-cdt1-1.cdninstagram.com/v/t51.2885-19/s150x150/176342537_885759922279780_1954766407306855073_n.jpg?tp=1&_nc_ht=scontent-cdt1-1.cdninstagram.com&_nc_ohc=SG8YfZaws7gAX_yztiz&edm=ABfd0MgAAAAA&ccb=7-4&oh=603feb493cfde22683328b00cba1545d&oe=60A9CECB&_nc_sid=7bff83', 'tag': ['Fêtes', 'Relations sérieuses', 'Fitness']}\n",
      "******************\n",
      "{'name': 'Adele', 'instagram': 'adelouuuuuu', 'age': '19', 'picture': 'https://scontent-cdt1-1.cdninstagram.com/v/t51.2885-19/s150x150/176006797_120822496773981_5957332847624499167_n.jpg?tp=1&_nc_ht=scontent-cdt1-1.cdninstagram.com&_nc_ohc=95YWHa_BJbIAX-kAMvb&edm=ABfd0MgAAAAA&ccb=7-4&oh=78d02118ed532f5f5419a84d1571f135&oe=60A93F2F&_nc_sid=7bff83', 'tag': ['Nature', 'Marche à pied', 'Pêche']}\n",
      "******************\n",
      "{'name': 'Eva', 'instagram': 'evamothes', 'age': '19', 'picture': 'https://scontent-cdt1-1.cdninstagram.com/v/t51.2885-19/s150x150/155773211_449752282932825_461674237380734304_n.jpg?tp=1&_nc_ht=scontent-cdt1-1.cdninstagram.com&_nc_ohc=rDHfERmci_gAX8cxojM&edm=ABfd0MgAAAAA&ccb=7-4&oh=aab0055b0ff33c0bb3b8d91dc361e993&oe=60A9D895&_nc_sid=7bff83', 'tag': []}\n",
      "******************\n",
      "{'name': 'Clothilde', 'instagram': 'clothilde_dbs', 'age': '19', 'picture': 'https://scontent-cdt1-1.cdninstagram.com/v/t51.2885-19/s150x150/132931889_2857989621153714_1966462439282432542_n.jpg?tp=1&_nc_ht=scontent-cdt1-1.cdninstagram.com&_nc_ohc=0SUfuU9qJqYAX-qfBnk&edm=ABfd0MgAAAAA&ccb=7-4&oh=d5027c4d7991559c9daaa7487d1a88f5&oe=60A8523F&_nc_sid=7bff83', 'tag': ['Discussion dans une autre langue', 'Astrologie', 'Voyage', 'Toujours partant(e)', 'Fêtes']}\n",
      "******************\n",
      "{'name': 'justine', 'instagram': 'sr_gnt', 'age': '19', 'picture': 'https://scontent-cdt1-1.cdninstagram.com/v/t51.2885-19/s150x150/55879643_819061098470089_3054210656468205568_n.jpg?tp=1&_nc_ht=scontent-cdt1-1.cdninstagram.com&_nc_ohc=1bGYKPrfVzMAX9YItFY&edm=ABfd0MgAAAAA&ccb=7-4&oh=681f3a834f801d8ad1cf0214165e807c&oe=60A848C4&_nc_sid=7bff83', 'tag': ['Cinéma', 'Fêtes', 'Vin', 'Pétanque']}\n",
      "******************\n",
      "{'name': 'Zoé', 'instagram': 'zoeboulben', 'age': '20', 'picture': 'https://scontent-cdt1-1.cdninstagram.com/v/t51.2885-19/s150x150/169691401_103610721789674_2110124329663615972_n.jpg?tp=1&_nc_ht=scontent-cdt1-1.cdninstagram.com&_nc_ohc=zSxaoxb05xUAX8RQBj9&edm=ABfd0MgAAAAA&ccb=7-4&oh=a1c8d661d7b74a1b5141f183f709e2f6&oe=60A8242D&_nc_sid=7bff83', 'tag': ['Brunch', 'Vin', 'Prendre un verre', 'Voyage']}\n",
      "******************\n",
      "{'name': 'Tam', 'instagram': 'brownii', 'age': '20', 'picture': 'https://scontent-cdt1-1.cdninstagram.com/v/t51.2885-19/s150x150/159938919_493251808505352_465534426372549045_n.jpg?tp=1&_nc_ht=scontent-cdt1-1.cdninstagram.com&_nc_ohc=-W2BOMy9Hj0AX__hKQA&edm=ABfd0MgAAAAA&ccb=7-4&oh=76436fbc7542eb15ac46634fc1f17f38&oe=60A9DA57&_nc_sid=7bff83', 'tag': ['Toujours partant(e)', 'Itinéraire gourmand', 'Extraverti(e)', 'Cuisinier(ère) amateur(trice)']}\n",
      "******************\n",
      "{'name': 'Elena', 'instagram': 'elenahirel', 'age': '19', 'picture': 'https://scontent-cdt1-1.cdninstagram.com/v/t51.2885-19/s150x150/126860486_3789461934438047_3365024862415956693_n.jpg?tp=1&_nc_ht=scontent-cdt1-1.cdninstagram.com&_nc_ohc=gq4V68TJ5d4AX-EwCZc&edm=ABfd0MgAAAAA&ccb=7-4&oh=101118948d354abd6712bf260860db15&oe=60A8CF8F&_nc_sid=7bff83', 'tag': ['Surf', 'Musique', 'Voyage', 'Mode', 'Fripes']}\n",
      "******************\n",
      "{'name': 'Laetitia', 'instagram': 'Laetitia.zmr', 'age': '19', 'picture': 'https://scontent-cdt1-1.cdninstagram.com/v/t51.2885-19/s150x150/175386856_244638884018441_2735999479496316360_n.jpg?tp=1&_nc_ht=scontent-cdt1-1.cdninstagram.com&_nc_ohc=56HoJe8YYuEAX_daoWg&edm=ABfd0MgAAAAA&ccb=7-4&oh=669caa87c673fef2806ed4896646a631&oe=60AB3B0D&_nc_sid=7bff83', 'tag': []}\n",
      "******************\n",
      "{'name': 'Mélina', 'instagram': 'justmelbaby', 'age': '19', 'picture': 'https://scontent-cdt1-1.cdninstagram.com/v/t51.2885-19/s150x150/175483045_470936314221755_3430921831559941280_n.jpg?tp=1&_nc_ht=scontent-cdt1-1.cdninstagram.com&_nc_ohc=ThPNViOgU1oAX9j6nhU&edm=ABfd0MgAAAAA&ccb=7-4&oh=880ac7bb497c4d7f0091d4e94499297b&oe=60A85EC5&_nc_sid=7bff83', 'tag': ['Instagram', 'Fitness', 'Road trips', 'Politique', 'Café']}\n",
      "******************\n",
      "{'name': 'Marine', 'instagram': 'marinegrzn', 'age': '19', 'picture': 'https://scontent-cdt1-1.cdninstagram.com/v/t51.2885-19/s150x150/135731798_3746471372080622_4595667744251757014_n.jpg?tp=1&_nc_ht=scontent-cdt1-1.cdninstagram.com&_nc_ohc=9NbnruiCrCAAX-sYn-2&edm=ABfd0MgAAAAA&ccb=7-4&oh=64d02043568be07f3b1fe6dd2b5d01de&oe=60AB052C&_nc_sid=7bff83', 'tag': []}\n"
     ]
    },
    {
     "name": "stdout",
     "output_type": "stream",
     "text": [
      "******************\n",
      "{'name': 'Gwendoline', 'instagram': 'leserrec', 'age': '20', 'picture': 'https://scontent-cdt1-1.cdninstagram.com/v/t51.2885-19/s150x150/151440928_430108421587788_8110540816848820867_n.jpg?tp=1&_nc_ht=scontent-cdt1-1.cdninstagram.com&_nc_ohc=_Jz7ATo4AbQAX_0rW2E&edm=ABfd0MgAAAAA&ccb=7-4&oh=3a76df08debbeb92008802f8866256d3&oe=60A9F8E6&_nc_sid=7bff83', 'tag': []}\n",
      "******************\n",
      "{'name': 'Louna', 'instagram': 'lbnl__', 'age': '21', 'picture': 'https://scontent-cdt1-1.cdninstagram.com/v/t51.2885-19/s150x150/170450813_179307387342988_2360415461947268437_n.jpg?tp=1&_nc_ht=scontent-cdt1-1.cdninstagram.com&_nc_ohc=j2PoR7zC2qsAX87WRjb&edm=ABfd0MgAAAAA&ccb=7-4&oh=f897f11b3dc8dc438e7a86f4114425c1&oe=60A97587&_nc_sid=7bff83', 'tag': ['Sushi', 'Art', 'Happy hour', 'Toujours partant(e)', 'Tatouages']}\n",
      "******************\n",
      "{'name': 'Cryeel', 'instagram': 'mina_mllt', 'age': '20', 'picture': 'https://scontent-cdt1-1.cdninstagram.com/v/t51.2885-19/s150x150/148249547_332176251438272_5915336442662485470_n.jpg?tp=1&_nc_ht=scontent-cdt1-1.cdninstagram.com&_nc_ohc=RyuhzYfHeFIAX8Db0MO&edm=ABfd0MgAAAAA&ccb=7-4&oh=71a00e690bbb8213c818fd856f2d8afa&oe=60AAFD20&_nc_sid=7bff83', 'tag': ['Voyage', 'Photographie', 'Fêtes', 'Fitness', 'Relations sérieuses']}\n",
      "******************\n",
      "{'name': 'P', 'instagram': 'wayofpearl', 'age': '18', 'picture': 'https://scontent-cdt1-1.cdninstagram.com/v/t51.2885-19/s150x150/169689855_136451555091932_1530664982495560827_n.jpg?tp=1&_nc_ht=scontent-cdt1-1.cdninstagram.com&_nc_ohc=7FllW8bFdtMAX__FG_z&edm=ABfd0MgAAAAA&ccb=7-4&oh=f229a4a441f4f6aa96c660cdafd5e510&oe=60A87360&_nc_sid=7bff83', 'tag': []}\n",
      "******************\n",
      "{'name': 'Valentine', 'instagram': 'valentinerichrd', 'age': '19', 'picture': 'https://scontent-cdt1-1.cdninstagram.com/v/t51.2885-19/s150x150/170115673_591254748939918_5225997702242565156_n.jpg?tp=1&_nc_ht=scontent-cdt1-1.cdninstagram.com&_nc_ohc=5if3eS2b284AX8gCpFS&edm=ABfd0MgAAAAA&ccb=7-4&oh=60e868938040d71119356b91a0c1b8e9&oe=60A83496&_nc_sid=7bff83', 'tag': ['Cinéma', 'Voyage', 'Happy hour', 'Musée', 'Musique']}\n",
      "******************\n",
      "{'name': 'Margaret', 'instagram': 'margaretdollasignz', 'age': '19', 'picture': 'https://scontent-cdt1-1.cdninstagram.com/v/t51.2885-19/s150x150/133181914_783532769037218_5415631280138587675_n.jpg?tp=1&_nc_ht=scontent-cdt1-1.cdninstagram.com&_nc_ohc=crSV5yVfyqAAX_-7JFi&edm=ABfd0MgAAAAA&ccb=7-4&oh=68306915825d26b17cb3e60c40249722&oe=60AAAAE9&_nc_sid=7bff83', 'tag': []}\n",
      "******************\n",
      "{'name': 'Léa', 'instagram': 'leaaa__b_', 'age': '18', 'picture': 'https://scontent-cdt1-1.cdninstagram.com/v/t51.2885-19/s150x150/173254023_1124728301350006_5647461682164449609_n.jpg?tp=1&_nc_ht=scontent-cdt1-1.cdninstagram.com&_nc_ohc=Mp4VMPSU21wAX84sGcn&edm=ABfd0MgAAAAA&ccb=7-4&oh=5900ec9a661a54d27f922126b16118f2&oe=60A86AF7&_nc_sid=7bff83', 'tag': ['Netflix', 'Toujours partant(e)', 'Musique', 'Fêtes', 'Sushi']}\n",
      "******************\n",
      "{'name': 'Lou', 'instagram': 'loupopy.____', 'age': '19', 'picture': 'https://scontent-cdt1-1.cdninstagram.com/v/t51.2885-19/s150x150/126391089_196608448669745_8193051467028927547_n.jpg?tp=1&_nc_ht=scontent-cdt1-1.cdninstagram.com&_nc_ohc=dFUzkDtWuOMAX_Hywr2&edm=ABfd0MgAAAAA&ccb=7-4&oh=9c6ca9eafbb58edf90651d9242e4d7cd&oe=60AAF174&_nc_sid=7bff83', 'tag': ['Cinéma', 'Fripes', 'Musique', 'Shopping']}\n",
      "******************\n",
      "{'name': 'solene', 'instagram': 'solene.skn', 'age': '19', 'picture': 'https://scontent-cdt1-1.cdninstagram.com/v/t51.2885-19/s150x150/171594369_949294319140354_5164070173511250107_n.jpg?tp=1&_nc_ht=scontent-cdt1-1.cdninstagram.com&_nc_ohc=JG34TlkIfq0AX-2CpkN&edm=ABfd0MgAAAAA&ccb=7-4&oh=7bb780515d63a9653713daec020deb84&oe=60AA7F60&_nc_sid=7bff83', 'tag': []}\n",
      "******************\n",
      "{'name': 'Chloé', 'instagram': 'sgdchloe', 'age': '18', 'picture': 'https://scontent-cdt1-1.cdninstagram.com/v/t51.2885-19/s150x150/130194793_1051273798630755_8905649411507537858_n.jpg?tp=1&_nc_ht=scontent-cdt1-1.cdninstagram.com&_nc_ohc=z2tT0EoMKpAAX-zxh1t&edm=ABfd0MgAAAAA&ccb=7-4&oh=d74867d9b489dcbea534f894c1c48540&oe=60A8779F&_nc_sid=7bff83', 'tag': ['Voyage', 'Art', 'Mode', 'Fêtes']}\n",
      "******************\n",
      "{'name': 'alice', 'instagram': 'alicemnzgl', 'age': '19', 'picture': 'https://scontent-cdt1-1.cdninstagram.com/v/t51.2885-19/s150x150/126162353_419086272429938_2031231763665906098_n.jpg?tp=1&_nc_ht=scontent-cdt1-1.cdninstagram.com&_nc_ohc=AQ92YaRuK8gAX80eSQc&edm=ABfd0MgAAAAA&ccb=7-4&oh=f3871beec6e6e9c2e972474169caca20&oe=60AAD0B4&_nc_sid=7bff83', 'tag': ['Cinéma', 'Pâtisserie', 'Voyage', 'Road trips', 'Art']}\n",
      "******************\n",
      "{'name': \"Ju'\", 'instagram': 'justine_2100', 'age': '19', 'picture': 'https://scontent-cdt1-1.cdninstagram.com/v/t51.2885-19/s150x150/139995269_700429830662885_1015547219967614688_n.jpg?tp=1&_nc_ht=scontent-cdt1-1.cdninstagram.com&_nc_ohc=6CDdMFqNQTMAX-0D9gd&edm=ABfd0MgAAAAA&ccb=7-4&oh=8cbe65a8b331126437cbd2ad0b5f51cd&oe=60A82EC9&_nc_sid=7bff83', 'tag': []}\n",
      "******************\n",
      "{'name': 'Candice', 'instagram': 'candice.gnt', 'age': '19', 'picture': 'https://scontent-cdt1-1.cdninstagram.com/v/t51.2885-19/s150x150/171906428_157951799545580_1890902165056294453_n.jpg?tp=1&_nc_ht=scontent-cdt1-1.cdninstagram.com&_nc_ohc=UUMehkZx42gAX9bLiSq&edm=ABfd0MgAAAAA&ccb=7-4&oh=52aaf63950435552cc5f5861f6ad1a68&oe=60A8B632&_nc_sid=7bff83', 'tag': ['Fêtes', 'Voyage', 'Café', 'Nature', 'Prendre un verre']}\n",
      "******************\n",
      "{'name': 'Miranda', 'instagram': 'mirandaa7_', 'age': '19', 'picture': 'https://scontent-cdt1-1.cdninstagram.com/v/t51.2885-19/s150x150/135099004_432085861166302_2451570271058376560_n.jpg?tp=1&_nc_ht=scontent-cdt1-1.cdninstagram.com&_nc_ohc=K91-6Dg8bY0AX_Q6aAX&edm=ABfd0MgAAAAA&ccb=7-4&oh=662b4924d5a080d9d0aa241b78fbcc1c&oe=60A8B9CF&_nc_sid=7bff83', 'tag': []}\n",
      "******************\n",
      "{'name': 'Jade', 'instagram': 'jade_mlrt', 'age': '18', 'picture': 'https://scontent-cdt1-1.cdninstagram.com/v/t51.2885-19/s150x150/124518901_1036088210165541_4272233409307022878_n.jpg?tp=1&_nc_ht=scontent-cdt1-1.cdninstagram.com&_nc_ohc=yYoB4hH0YjkAX96lTs0&edm=ABfd0MgAAAAA&ccb=7-4&oh=7d4cd0c33bec24285abf5d2d1d0ed81a&oe=60A8D17B&_nc_sid=7bff83', 'tag': ['Netflix', 'Cuisine', 'Musique', 'Fêtes', 'Sports']}\n",
      "******************\n",
      "{'name': 'Chloé', 'instagram': 'clolrnt', 'age': '20', 'picture': 'https://scontent-cdt1-1.cdninstagram.com/v/t51.2885-19/s150x150/121117777_128839428647991_3644912060105144591_n.jpg?tp=1&_nc_ht=scontent-cdt1-1.cdninstagram.com&_nc_ohc=DRMSO3YYv9wAX8HSunS&edm=ABfd0MgAAAAA&ccb=7-4&oh=e4b19609aed157c788c14a92ac9e733a&oe=60AAF722&_nc_sid=7bff83', 'tag': ['Surf', 'Prendre un verre', 'Road trips', 'Fêtes', 'Personne à chat']}\n",
      "******************\n",
      "{'name': 'Linda', 'instagram': 'lindagudjons', 'age': '19', 'picture': 'https://scontent-cdt1-1.cdninstagram.com/v/t51.2885-19/s150x150/162688089_1175681652876078_4874831021841514974_n.jpg?tp=1&_nc_ht=scontent-cdt1-1.cdninstagram.com&_nc_ohc=0ixBps0Z37IAX9qxl5u&edm=ABfd0MgAAAAA&ccb=7-4&oh=d337b2b0a455d0fb5714f5ac265547f9&oe=60A882F9&_nc_sid=7bff83', 'tag': []}\n",
      "******************\n",
      "{'name': 'Angèle', 'instagram': 'angelebsl', 'age': '19', 'picture': 'https://scontent-cdt1-1.cdninstagram.com/v/t51.2885-19/s150x150/93375747_2156526764492870_9128687919446360064_n.jpg?tp=1&_nc_ht=scontent-cdt1-1.cdninstagram.com&_nc_ohc=uRSIVwUpz9gAX-cCELh&edm=ABfd0MgAAAAA&ccb=7-4&oh=c789146202389624b3aca27c000b8a84&oe=60AAB5B4&_nc_sid=7bff83', 'tag': ['Cinéma', 'Musée', 'Art', 'Photographie', 'Mode']}\n",
      "******************\n",
      "{'name': 'Emma', 'instagram': 'palomarvr', 'age': '21', 'picture': 'https://scontent-cdt1-1.cdninstagram.com/v/t51.2885-19/s150x150/175791812_890205725044872_2546345180682224135_n.jpg?tp=1&_nc_ht=scontent-cdt1-1.cdninstagram.com&_nc_ohc=MWMCaDoS9DAAX93-5er&edm=ABfd0MgAAAAA&ccb=7-4&oh=58008db247fd7b51cf86fca869eb4f80&oe=60AB4517&_nc_sid=7bff83', 'tag': ['Sushi', 'Brunch', 'Ski', 'Cuisine', 'Fêtes']}\n",
      "******************\n",
      "{'name': 'Sofia', 'instagram': 'xsofia.sl', 'age': '19', 'picture': 'https://scontent-cdt1-1.cdninstagram.com/v/t51.2885-19/s150x150/162839319_461160158461140_992436341480215637_n.jpg?tp=1&_nc_ht=scontent-cdt1-1.cdninstagram.com&_nc_ohc=bwKUa_9IHCMAX_RCBoo&edm=ABfd0MgAAAAA&ccb=7-4&oh=2658a4c6387a4ea1990372f9e827c1df&oe=60AB0BE8&_nc_sid=7bff83', 'tag': ['Netflix', 'Jeux vidéo', 'Spiritualité', 'Astrologie', 'Tatouages']}\n"
     ]
    },
    {
     "name": "stdout",
     "output_type": "stream",
     "text": [
      "******************\n",
      "{'name': 'Calista', 'instagram': 'calistablackwood', 'age': '19', 'picture': 'https://scontent-cdt1-1.cdninstagram.com/v/t51.2885-19/s150x150/166031811_1142991619457262_5384364656063234460_n.jpg?tp=1&_nc_ht=scontent-cdt1-1.cdninstagram.com&_nc_ohc=o9xLFV6Yd84AX-3UB0X&edm=ABfd0MgAAAAA&ccb=7-4&oh=f6b006f87dc301342b331e6f00b1abd2&oe=60AA8A7E&_nc_sid=7bff83', 'tag': ['Musique', 'Art', 'Vin', 'Tatouages', 'Sports mécaniques']}\n",
      "******************\n",
      "{'name': 'charlotte', 'instagram': 'chapodesta', 'age': '19', 'picture': 'https://scontent-cdt1-1.cdninstagram.com/v/t51.2885-19/s150x150/174805948_824447808158296_1179891351794774039_n.jpg?tp=1&_nc_ht=scontent-cdt1-1.cdninstagram.com&_nc_ohc=G0GKY3Aw8xQAX8CE9wf&edm=ABfd0MgAAAAA&ccb=7-4&oh=4b1f4e71708036fa4bf0b1c82773f5e2&oe=60A8305C&_nc_sid=7bff83', 'tag': ['Netflix', 'Cinéma', 'Sushi', 'Art']}\n",
      "******************\n",
      "{'name': 'Zoe', 'instagram': 'zoezakhraov', 'age': '18', 'picture': 'https://scontent-cdt1-1.cdninstagram.com/v/t51.2885-19/s150x150/146244098_256017649232699_5665810425671320111_n.jpg?tp=1&_nc_ht=scontent-cdt1-1.cdninstagram.com&_nc_ohc=HNpG_ExmcioAX84OGAI&edm=ABfd0MgAAAAA&ccb=7-4&oh=6ceef696ca96e4f83c1d32fa9892748a&oe=60A9EDB8&_nc_sid=7bff83', 'tag': []}\n",
      "******************\n",
      "{'name': 'Isaure', 'instagram': 'zozore___', 'age': '21', 'picture': 'https://scontent-cdt1-1.cdninstagram.com/v/t51.2885-19/s150x150/134821172_158551338984428_6245224433252360435_n.jpg?tp=1&_nc_ht=scontent-cdt1-1.cdninstagram.com&_nc_ohc=zUdg6S8NLhwAX_1PUp7&edm=ABfd0MgAAAAA&ccb=7-4&oh=686122e1d1a7d35decce48319871b96a&oe=60AB23AB&_nc_sid=7bff83', 'tag': ['Musique', 'Sports', 'Toujours partant(e)']}\n",
      "******************\n",
      "{'name': 'Anna', 'instagram': 'anna.ly_cn', 'age': '19', 'picture': 'https://scontent-cdt1-1.cdninstagram.com/v/t51.2885-19/s150x150/174319755_376656186802207_1024659683594836083_n.jpg?tp=1&_nc_ht=scontent-cdt1-1.cdninstagram.com&_nc_ohc=VMSilRyBiNkAX9Rix4K&edm=ABfd0MgAAAAA&ccb=7-4&oh=7391cb260c6e725c372a9a1c5279cc04&oe=60A8250C&_nc_sid=7bff83', 'tag': ['Netflix', 'Sports', 'Se faire des amis', 'Extraverti(e)', 'Fêtes']}\n",
      "******************\n",
      "{'name': 'Victoria', 'instagram': 'victoria.beotn', 'age': '19', 'picture': 'https://scontent-cdt1-1.cdninstagram.com/v/t51.2885-19/s150x150/170515947_116645570453396_6271264678491588491_n.jpg?tp=1&_nc_ht=scontent-cdt1-1.cdninstagram.com&_nc_ohc=2wINbN3s8GQAX-TIaMy&edm=ABfd0MgAAAAA&ccb=7-4&oh=d7f280fdb61eec0566c268b79ae8f8a7&oe=60AADFA8&_nc_sid=7bff83', 'tag': ['Instagram', 'Gastronomie', 'Sneakers', 'Brunch', 'Musique']}\n",
      "******************\n",
      "{'name': 'Bruna', 'instagram': 'b.kelczeski', 'age': '19', 'picture': 'https://scontent-cdt1-1.cdninstagram.com/v/t51.2885-19/s150x150/173856911_458870168730972_1408003889335950794_n.jpg?tp=1&_nc_ht=scontent-cdt1-1.cdninstagram.com&_nc_ohc=K4vHwnC6eEMAX9XUfse&edm=ABfd0MgAAAAA&ccb=7-4&oh=ab658e4e533d7b3e1329c833b909477a&oe=60AAD20C&_nc_sid=7bff83', 'tag': []}\n",
      "******************\n",
      "{'name': 'Héloïse', 'instagram': 'helokwlsk', 'age': '21', 'picture': 'https://scontent-cdt1-1.cdninstagram.com/v/t51.2885-19/s150x150/158882070_146966493950909_5761645104162249728_n.jpg?tp=1&_nc_ht=scontent-cdt1-1.cdninstagram.com&_nc_ohc=Jwcksm2DbyIAX-qeg63&edm=ABfd0MgAAAAA&ccb=7-4&oh=1595f52232142129af8750f2113b6849&oe=60A9D99C&_nc_sid=7bff83', 'tag': ['Tatouages', 'Relations sérieuses', 'Art', 'Vin', 'Fêtes']}\n",
      "******************\n",
      "{'name': 'Bárbara', 'instagram': 'barbarabarragaan', 'age': '19', 'picture': 'https://scontent-cdt1-1.cdninstagram.com/v/t51.2885-19/s150x150/177141810_411896186543855_7999306394543306777_n.jpg?tp=1&_nc_ht=scontent-cdt1-1.cdninstagram.com&_nc_ohc=46PDPgvbrjIAX-uubQj&edm=ABfd0MgAAAAA&ccb=7-4&oh=950c5cbd78b47f61e2e78543190b017c&oe=60A8ECE4&_nc_sid=7bff83', 'tag': []}\n",
      "******************\n",
      "{'name': 'Camille', 'instagram': 'camillexf_', 'age': '20', 'picture': 'https://scontent-cdt1-1.cdninstagram.com/v/t51.2885-19/s150x150/173905559_125715526269348_7649829273354780432_n.jpg?tp=1&_nc_ht=scontent-cdt1-1.cdninstagram.com&_nc_ohc=qHAbaEgZazcAX_GMYIA&edm=ABfd0MgAAAAA&ccb=7-4&oh=5116396d075e85ef43428cae3051c95e&oe=60ABAA16&_nc_sid=7bff83', 'tag': []}\n",
      "******************\n",
      "{'name': 'Sigrid', 'instagram': 'sigridmouriame', 'age': '19', 'picture': 'https://scontent-cdt1-1.cdninstagram.com/v/t51.2885-19/s150x150/169315404_295794211951383_1120527740304121053_n.jpg?tp=1&_nc_ht=scontent-cdt1-1.cdninstagram.com&_nc_ohc=-oDL3q3VRJEAX9ei6nz&edm=ABfd0MgAAAAA&ccb=7-4&oh=0e59e9dc444a3cf5deb5d119e2d23f64&oe=60AA50B8&_nc_sid=7bff83', 'tag': ['Café', 'Vin', 'Road trips', 'Musée', 'Sport']}\n",
      "******************\n",
      "{'name': 'Lucie', 'instagram': 'hemera_luxe', 'age': '19', 'picture': 'https://scontent-cdt1-1.cdninstagram.com/v/t51.2885-19/s150x150/117134740_172913017634553_2308916101888249382_n.jpg?tp=1&_nc_ht=scontent-cdt1-1.cdninstagram.com&_nc_ohc=RpDWIyEMESsAX9FQHsf&edm=ABfd0MgAAAAA&ccb=7-4&oh=d54d282049f19d6d82619732eb19f8fc&oe=60A9CF11&_nc_sid=7bff83', 'tag': ['Tatouages', 'Skateboarder', 'Vin', 'Extraverti(e)', 'Rencontres sans pression']}\n",
      "******************\n",
      "{'name': 'Jade', 'instagram': 'jadenis26', 'age': '19', 'picture': 'https://scontent-cdt1-1.cdninstagram.com/v/t51.2885-19/s150x150/151081053_173090981017557_6466022953159253877_n.jpg?tp=1&_nc_ht=scontent-cdt1-1.cdninstagram.com&_nc_ohc=bOVfRTKVFTsAX8xleEy&edm=ABfd0MgAAAAA&ccb=7-4&oh=d6b3082d32e3e5370b354e5d99e2b83c&oe=60AB9B38&_nc_sid=7bff83', 'tag': ['Happy hour', 'Extraverti(e)', 'Fêtes', 'Sushi', 'Voyage']}\n",
      "******************\n",
      "{'name': 'Hana', 'instagram': 'Hana.ltc', 'age': '19', 'picture': 'https://scontent-cdt1-1.cdninstagram.com/v/t51.2885-19/s150x150/146294847_1953959724757626_7238932402512129128_n.jpg?tp=1&_nc_ht=scontent-cdt1-1.cdninstagram.com&_nc_ohc=UDZymlLGfs8AX_loGqB&edm=ABfd0MgAAAAA&ccb=7-4&oh=0817bef1fb09a78dc6deecfc793c2a58&oe=60A96274&_nc_sid=7bff83', 'tag': ['Netflix', 'Sushi', 'Voyage', 'Fêtes', 'Musique']}\n",
      "******************\n",
      "{'name': 'Lorien', 'instagram': 'lorien.lv', 'age': '20', 'picture': 'https://scontent-cdt1-1.cdninstagram.com/v/t51.2885-19/s150x150/93453055_2995159537241724_8321412171502190592_n.jpg?tp=1&_nc_ht=scontent-cdt1-1.cdninstagram.com&_nc_ohc=lMMPLDBSR_4AX-4Uq_9&edm=ABfd0MgAAAAA&ccb=7-4&oh=2762787c50cb2cd97ecb047027066217&oe=60AABBE5&_nc_sid=7bff83', 'tag': ['Netflix', 'Sports', 'Sushi', 'Shopping', 'Voyage']}\n",
      "******************\n",
      "{'name': 'Dorine', 'instagram': 'dorinee.rbt', 'age': '19', 'picture': 'https://scontent-cdt1-1.cdninstagram.com/v/t51.2885-19/s150x150/176246992_391875331783669_3653617816496332814_n.jpg?tp=1&_nc_ht=scontent-cdt1-1.cdninstagram.com&_nc_ohc=OrU-BCr4TacAX9bIAxZ&edm=ABfd0MgAAAAA&ccb=7-4&oh=292eb06567f5ea1d06ecac90a2b72e7d&oe=60A9E68B&_nc_sid=7bff83', 'tag': ['Netflix', 'Shopping', 'Sneakers', 'Sushi', 'Musique']}\n",
      "******************\n",
      "{'name': 'Clarisse', 'instagram': 'clarissedasilvasantos', 'age': '21', 'picture': 'https://scontent-cdt1-1.cdninstagram.com/v/t51.2885-19/s150x150/170202606_237207548145050_3743663809714195110_n.jpg?tp=1&_nc_ht=scontent-cdt1-1.cdninstagram.com&_nc_ohc=Ew54CCLbCqEAX9NVNyG&edm=ABfd0MgAAAAA&ccb=7-4&oh=4f5241b288b010772a446f26ad18d445&oe=60AAD69D&_nc_sid=7bff83', 'tag': ['Course à pied', 'Photographie', 'Musique', 'Cuisine']}\n",
      "******************\n",
      "{'name': 'Garance', 'instagram': 'garance.joris', 'age': '19', 'picture': 'https://scontent-cdt1-1.cdninstagram.com/v/t51.2885-19/s150x150/174233764_209676497215088_7788171033810698654_n.jpg?tp=1&_nc_ht=scontent-cdt1-1.cdninstagram.com&_nc_ohc=SpXM-NIjLmgAX_QEPo4&edm=ABfd0MgAAAAA&ccb=7-4&oh=0d73c5e0aecab7f7dab3bc95799e78de&oe=60A9F80C&_nc_sid=7bff83', 'tag': ['Netflix', 'Bénévolat', 'Prendre un verre', 'Relations sérieuses', 'Café']}\n",
      "******************\n",
      "{'name': 'Lisa', 'instagram': 'subluenary', 'age': '19', 'picture': 'https://scontent-cdt1-1.cdninstagram.com/v/t51.2885-19/s150x150/175635227_728808327757223_426003035392594866_n.jpg?tp=1&_nc_ht=scontent-cdt1-1.cdninstagram.com&_nc_ohc=UXARTwYCTDgAX-LEipp&edm=ABfd0MgAAAAA&ccb=7-4&oh=e1484861d15283f06ac849c20b05a435&oe=60AAB38A&_nc_sid=7bff83', 'tag': ['Tatouages', 'Musique', 'Rencontres sans pression', 'Introverti(e)']}\n",
      "******************\n",
      "{'name': 'Matisse', 'instagram': 'matisseloctin', 'age': '18', 'picture': 'https://scontent-cdt1-1.cdninstagram.com/v/t51.2885-19/s150x150/169297461_876976639817842_7107721808319310939_n.jpg?tp=1&_nc_ht=scontent-cdt1-1.cdninstagram.com&_nc_ohc=pKR5-BqZZSIAX9SD8oh&edm=ABfd0MgAAAAA&ccb=7-4&oh=5562f707f5e8b332c826709bfb044771&oe=60A98883&_nc_sid=7bff83', 'tag': ['Sushi', 'Vin', 'Sport', 'Fêtes']}\n"
     ]
    },
    {
     "name": "stdout",
     "output_type": "stream",
     "text": [
      "******************\n",
      "{'name': 'Léa', 'instagram': 'lea_mdln', 'age': '20', 'picture': 'https://scontent-cdt1-1.cdninstagram.com/v/t51.2885-19/s150x150/173109975_1417931148541885_1743110721543396592_n.jpg?tp=1&_nc_ht=scontent-cdt1-1.cdninstagram.com&_nc_ohc=5YGqMV5Zi6QAX9aZIix&edm=ABfd0MgAAAAA&ccb=7-4&oh=c3a57bdaecb9d0f537455a0602a314ba&oe=60A9EED6&_nc_sid=7bff83', 'tag': []}\n",
      "******************\n",
      "{'name': 'Anna', 'instagram': 'annacrng', 'age': '21', 'picture': 'https://scontent-cdt1-1.cdninstagram.com/v/t51.2885-19/s150x150/158914325_583831249243256_8069769835587625912_n.jpg?tp=1&_nc_ht=scontent-cdt1-1.cdninstagram.com&_nc_ohc=Es_zZrNuUXUAX-iWCye&edm=ABfd0MgAAAAA&ccb=7-4&oh=4f3418c0799fffd9ead216c33f11c08f&oe=60A8B9D5&_nc_sid=7bff83', 'tag': []}\n",
      "******************\n",
      "{'name': 'Aurélie', 'instagram': '__carapuce', 'age': '25', 'picture': 'https://scontent-cdt1-1.cdninstagram.com/v/t51.2885-19/s150x150/173619122_448886356399553_3681694841737257470_n.jpg?tp=1&_nc_ht=scontent-cdt1-1.cdninstagram.com&_nc_ohc=0M_e4SnReboAX_47Fam&edm=ABfd0MgAAAAA&ccb=7-4&oh=88bb47d9f0088bf0aae0c45db3dd6f27&oe=60AA4713&_nc_sid=7bff83', 'tag': ['Netflix', 'Expositions', 'Sushi', 'Tatouages', 'Jeux vidéo']}\n",
      "******************\n",
      "{'name': 'V', 'instagram': 'tashvlt', 'age': '25', 'picture': 'https://scontent-cdt1-1.cdninstagram.com/v/t51.2885-19/s150x150/165992775_140719244568859_7232209352498971164_n.jpg?tp=1&_nc_ht=scontent-cdt1-1.cdninstagram.com&_nc_ohc=86uoAGam3L8AX-C4U2k&edm=ABfd0MgAAAAA&ccb=7-4&oh=19e3d200a943061cad2fdcabe915de33&oe=60AA562A&_nc_sid=7bff83', 'tag': ['Instagram', 'Prendre un verre', 'Toujours partant(e)', 'Sushi', 'Voyage']}\n",
      "******************\n",
      "{'name': 'Elodie', 'instagram': 'elodie__chlt', 'age': '21', 'picture': 'https://scontent-cdt1-1.cdninstagram.com/v/t51.2885-19/s150x150/168003163_291523579045376_9167030675039955511_n.jpg?tp=1&_nc_ht=scontent-cdt1-1.cdninstagram.com&_nc_ohc=2cHIDKBNXXEAX_ZcI3d&edm=ABfd0MgAAAAA&ccb=7-4&oh=f19556e81fc01e176887264d47f554ac&oe=60A9EB15&_nc_sid=7bff83', 'tag': []}\n",
      "******************\n",
      "{'name': 'Julie', 'instagram': 'julie_lbsq', 'age': '21', 'picture': 'https://scontent-cdt1-1.cdninstagram.com/v/t51.2885-19/s150x150/155786369_3919905921400887_1132750143597654441_n.jpg?tp=1&_nc_ht=scontent-cdt1-1.cdninstagram.com&_nc_ohc=sAFuvm1tFAIAX8Om6dT&edm=ABfd0MgAAAAA&ccb=7-4&oh=b8b49a1244e5b74eac961e7492fbef56&oe=60AB4B44&_nc_sid=7bff83', 'tag': []}\n",
      "******************\n",
      "{'name': 'Salomé', 'instagram': 'salomelgh', 'age': '21', 'picture': 'https://scontent-cdt1-1.cdninstagram.com/v/t51.2885-19/s150x150/176010059_218688046679757_3702922383693520636_n.jpg?tp=1&_nc_ht=scontent-cdt1-1.cdninstagram.com&_nc_ohc=Ep22cltBHJMAX_O1mmI&edm=ABfd0MgAAAAA&ccb=7-4&oh=98f99096e4d7c29b3b90059347d0ad39&oe=60AAE76F&_nc_sid=7bff83', 'tag': ['Voyage', 'Lecture', 'Expositions', 'Art', 'Tatouages']}\n",
      "******************\n",
      "{'name': 'Denisa', 'instagram': 'denisaacristina', 'age': '19', 'picture': 'https://scontent-cdt1-1.cdninstagram.com/v/t51.2885-19/s150x150/166435775_279329537156493_6456345363236703972_n.jpg?tp=1&_nc_ht=scontent-cdt1-1.cdninstagram.com&_nc_ohc=P_pmh4rs9b0AX9aFHPw&edm=ABfd0MgAAAAA&ccb=7-4&oh=d2fb74adc43dfb70f8b5ffefcecd1aeb&oe=60A8EE5D&_nc_sid=7bff83', 'tag': []}\n",
      "******************\n",
      "{'name': 'Fiona', 'instagram': 'fiona.mrsf', 'age': '19', 'picture': 'https://scontent-cdt1-1.cdninstagram.com/v/t51.2885-19/s150x150/161738456_1904490576367693_3857974559014074198_n.jpg?tp=1&_nc_ht=scontent-cdt1-1.cdninstagram.com&_nc_ohc=ZJAOVDFd2P0AX_N1aLC&edm=ABfd0MgAAAAA&ccb=7-4&oh=9ba60b2e785eab64fceaf1581603b2f0&oe=60A8EC3E&_nc_sid=7bff83', 'tag': ['Tatouages', 'Prendre un verre', 'Art', 'Toujours partant(e)']}\n",
      "******************\n",
      "{'name': 'marie', 'instagram': 'mariedstpr', 'age': '19', 'picture': 'https://scontent-cdt1-1.cdninstagram.com/v/t51.2885-19/s150x150/170111895_225270872713091_253537805553523006_n.jpg?tp=1&_nc_ht=scontent-cdt1-1.cdninstagram.com&_nc_ohc=6IFuJki_fbMAX8u2uOB&edm=ABfd0MgAAAAA&ccb=7-4&oh=a5af5d185f484b6eacb46027c45d090b&oe=60A8CCE5&_nc_sid=7bff83', 'tag': []}\n",
      "******************\n",
      "{'name': 'Margo', 'instagram': 'margthv', 'age': '19', 'picture': 'https://scontent-cdt1-1.cdninstagram.com/v/t51.2885-19/s150x150/174200234_164174568827955_2534610021080673285_n.jpg?tp=1&_nc_ht=scontent-cdt1-1.cdninstagram.com&_nc_ohc=UJ9L0qTdxy0AX-3CrXu&edm=ABfd0MgAAAAA&ccb=7-4&oh=aecc15e9cbb04c12b40c8f90a9f5360c&oe=60AB86EE&_nc_sid=7bff83', 'tag': []}\n",
      "******************\n",
      "{'name': 'Chiara', 'instagram': 'Chiara.yovine', 'age': '19', 'picture': 'https://scontent-cdt1-1.cdninstagram.com/v/t51.2885-19/s150x150/139851178_111175307593206_6013827160541713033_n.jpg?tp=1&_nc_ht=scontent-cdt1-1.cdninstagram.com&_nc_ohc=QmrnjEh1YfgAX-I2BXo&edm=ABfd0MgAAAAA&ccb=7-4&oh=ac2fde620e3de134043b717449f7cd7c&oe=60AB945B&_nc_sid=7bff83', 'tag': []}\n",
      "******************\n",
      "{'name': 'Isabella', 'instagram': 'isabellanoergaard', 'age': '19', 'picture': 'https://scontent-cdt1-1.cdninstagram.com/v/t51.2885-19/s150x150/165970331_1373262029738945_4699432697860876017_n.jpg?tp=1&_nc_ht=scontent-cdt1-1.cdninstagram.com&_nc_ohc=MVHnlG5I2VwAX_jwixJ&edm=ABfd0MgAAAAA&ccb=7-4&oh=2dc833b11667c553e6a62fedf21df9b3&oe=60AB210D&_nc_sid=7bff83', 'tag': []}\n",
      "******************\n",
      "{'name': 'Jeanne', 'instagram': 'jeanou__', 'age': '19', 'picture': 'https://scontent-cdt1-1.cdninstagram.com/v/t51.2885-19/s150x150/127640010_375113787110168_1464978880095151323_n.jpg?tp=1&_nc_ht=scontent-cdt1-1.cdninstagram.com&_nc_ohc=_nwkoBgcNQEAX8WcBdR&edm=ABfd0MgAAAAA&ccb=7-4&oh=be85ef4e178afffacaffaafa38969f1f&oe=60AB95BB&_nc_sid=7bff83', 'tag': ['Sushi', 'Musique', 'Shopping de seconde main', 'Tatouages', 'Art']}\n",
      "******************\n",
      "{'name': 'Margaux', 'instagram': 'margaux.boursier', 'age': '19', 'picture': 'https://scontent-cdt1-1.cdninstagram.com/v/t51.2885-19/s150x150/145109960_892566501515394_8418394787450457408_n.jpg?tp=1&_nc_ht=scontent-cdt1-1.cdninstagram.com&_nc_ohc=s0wWzqG-uyoAX_gf_by&edm=ABfd0MgAAAAA&ccb=7-4&oh=39482cd82a09c98dcd57699bd59739f7&oe=60A9A60D&_nc_sid=7bff83', 'tag': []}\n",
      "******************\n",
      "{'name': 'Carla', 'instagram': '_crlbtn', 'age': '19', 'picture': 'https://scontent-cdt1-1.cdninstagram.com/v/t51.2885-19/s150x150/177649966_512864596392803_3027557289171857192_n.jpg?tp=1&_nc_ht=scontent-cdt1-1.cdninstagram.com&_nc_ohc=JGy5bTosMwgAX9JvjGb&edm=ABfd0MgAAAAA&ccb=7-4&oh=c35899145c05551c9d7663a804506d11&oe=60AAB90A&_nc_sid=7bff83', 'tag': ['Football', 'Sneakers', 'Se faire des amis', 'Musique', 'Relations sérieuses']}\n",
      "******************\n",
      "{'name': 'Pauline', 'instagram': 'poptofe', 'age': '21', 'picture': 'https://scontent-cdt1-1.cdninstagram.com/v/t51.2885-19/s150x150/165737689_936162583809763_2727301352136378921_n.jpg?tp=1&_nc_ht=scontent-cdt1-1.cdninstagram.com&_nc_ohc=Xbx0hI0YbRsAX9X82c1&edm=ABfd0MgAAAAA&ccb=7-4&oh=baa0d3b4c0c4bed200f2d0e6cbc7224b&oe=60AA941C&_nc_sid=7bff83', 'tag': ['Rencontres sans pression', 'Sports', 'Mode', 'Fêtes', 'Voyage']}\n",
      "******************\n",
      "{'name': 'Axelle', 'instagram': 'axellepaesmans', 'age': '20', 'picture': 'https://scontent-cdt1-1.cdninstagram.com/v/t51.2885-19/s150x150/167401204_950425129045977_2875357802869443802_n.jpg?tp=1&_nc_ht=scontent-cdt1-1.cdninstagram.com&_nc_ohc=le3kgULzyYIAX9WsEYr&edm=ABfd0MgAAAAA&ccb=7-4&oh=dc9a512a6a354e291c14dc2c5b26f6cd&oe=60A9B1F5&_nc_sid=7bff83', 'tag': []}\n",
      "******************\n",
      "{'name': 'Queen', 'instagram': 'giovanna_zaccc', 'age': '19', 'picture': 'https://scontent-cdt1-1.cdninstagram.com/v/t51.2885-19/s150x150/149426674_4032948636756162_5229872912640711329_n.jpg?tp=1&_nc_ht=scontent-cdt1-1.cdninstagram.com&_nc_ohc=EcdKBHEWXQgAX8TzNwm&edm=ABfd0MgAAAAA&ccb=7-4&oh=9e07084d0a05b301365152d758d756e2&oe=60A9B845&_nc_sid=7bff83', 'tag': []}\n",
      "******************\n",
      "{'name': 'Laure', 'instagram': 'Laure_svb', 'age': '21', 'picture': 'https://scontent-cdt1-1.cdninstagram.com/v/t51.2885-19/s150x150/169632312_2825543864326296_6547116964451579975_n.jpg?tp=1&_nc_ht=scontent-cdt1-1.cdninstagram.com&_nc_ohc=IMf1prWugBgAX-hihH9&edm=ABfd0MgAAAAA&ccb=7-4&oh=1b0784a61f5a2832a675b6e9c2863efa&oe=60AB1B91&_nc_sid=7bff83', 'tag': ['Netflix', 'Personne à chat', 'Road trips', 'Gastronomie', 'Voyage']}\n",
      "******************\n",
      "{'name': 'Ingrid', 'instagram': 'ingridngt', 'age': '21', 'picture': 'https://scontent-cdt1-1.cdninstagram.com/v/t51.2885-19/s150x150/159979231_1595398167327790_2180540180578601007_n.jpg?tp=1&_nc_ht=scontent-cdt1-1.cdninstagram.com&_nc_ohc=_R0TRoqseD4AX9Akhr-&edm=ABfd0MgAAAAA&ccb=7-4&oh=bdbc42407e5ac6e5f617cb55d106c081&oe=60AAAF30&_nc_sid=7bff83', 'tag': []}\n"
     ]
    },
    {
     "name": "stdout",
     "output_type": "stream",
     "text": [
      "******************\n",
      "deleted\n",
      "******************\n",
      "{'name': 'Romane', 'instagram': 'romanelbl', 'age': '21', 'picture': 'https://scontent-cdt1-1.cdninstagram.com/v/t51.2885-19/s150x150/160901975_1178357622577661_6174936275232766356_n.jpg?tp=1&_nc_ht=scontent-cdt1-1.cdninstagram.com&_nc_ohc=Xri1G-r69IIAX8mcs5z&edm=ABfd0MgAAAAA&ccb=7-4&oh=3c632a301e1d89143a873757c6343af7&oe=60AAE237&_nc_sid=7bff83', 'tag': []}\n",
      "******************\n",
      "{'name': 'Luna', 'instagram': 'lunasportes', 'age': '19', 'picture': 'https://scontent-cdt1-1.cdninstagram.com/v/t51.2885-19/s150x150/176604741_2221501844653732_2406133034222769678_n.jpg?tp=1&_nc_ht=scontent-cdt1-1.cdninstagram.com&_nc_ohc=kyWgjpYwZkcAX9D8rsN&edm=ABfd0MgAAAAA&ccb=7-4&oh=cd9f45230263324a7ed4b28d4826f437&oe=60A9C133&_nc_sid=7bff83', 'tag': ['Activisme', 'Musique', 'Tatouages', 'Happy hour']}\n",
      "******************\n",
      "{'name': 'Camille', 'instagram': 'camilleplce', 'age': '19', 'picture': 'https://scontent-cdt1-1.cdninstagram.com/v/t51.2885-19/s150x150/167153675_3761201067332898_662372578939805117_n.jpg?tp=1&_nc_ht=scontent-cdt1-1.cdninstagram.com&_nc_ohc=AUWbdaRl2PsAX9Cmt1n&edm=ABfd0MgAAAAA&ccb=7-4&oh=dd3380c61a2aaba404e29e6fcb3f1ed8&oe=60A95D03&_nc_sid=7bff83', 'tag': []}\n",
      "******************\n",
      "{'name': 'Alizé', 'instagram': 'alize.smr', 'age': '19', 'picture': 'https://scontent-cdt1-1.cdninstagram.com/v/t51.2885-19/s150x150/168470590_5569887596355512_4055955657601678657_n.jpg?tp=1&_nc_ht=scontent-cdt1-1.cdninstagram.com&_nc_ohc=S4biFvJJby0AX8Pj_vR&edm=ABfd0MgAAAAA&ccb=7-4&oh=9fd1dcfe051d154402ac61118a2abef2&oe=60AA5F55&_nc_sid=7bff83', 'tag': ['Personne à chien', 'Thé', 'Lecture', 'Sports', 'Musée']}\n",
      "******************\n",
      "{'name': 'Emma', 'instagram': 'xmma', 'age': '19', 'picture': 'https://scontent-cdt1-1.cdninstagram.com/v/t51.2885-19/s150x150/167620752_3017472251859651_910202268967844844_n.jpg?tp=1&_nc_ht=scontent-cdt1-1.cdninstagram.com&_nc_ohc=RE9rrCP2zOcAX8dqZPN&edm=ABfd0MgAAAAA&ccb=7-4&oh=3187be46edc07e3f1d42488d11dd9152&oe=60AAAA8A&_nc_sid=7bff83', 'tag': ['Netflix', 'Musique', 'Art', 'Photographie', 'Astrologie']}\n",
      "******************\n",
      "{'name': 'Dawn', 'instagram': 'akadoud', 'age': '19', 'picture': 'https://scontent-cdt1-1.cdninstagram.com/v/t51.2885-19/s150x150/176335691_746146699355557_5419206062109477638_n.jpg?tp=1&_nc_ht=scontent-cdt1-1.cdninstagram.com&_nc_ohc=cgpUF0pnl4EAX9-bJcK&edm=ABfd0MgAAAAA&ccb=7-4&oh=961d34c09caa877f09ba6be295ac10fc&oe=60A86A9D&_nc_sid=7bff83', 'tag': ['Toujours partant(e)', 'Rencontres sans pression', 'Fêtes', 'Fripes', 'Happy hour']}\n",
      "******************\n",
      "{'name': 'Liucie', 'instagram': 'liucie', 'age': '21', 'picture': 'https://scontent-cdt1-1.cdninstagram.com/v/t51.2885-19/s150x150/165475930_490116785691666_2426745496792636356_n.jpg?tp=1&_nc_ht=scontent-cdt1-1.cdninstagram.com&_nc_ohc=Q6EQlGQGSjAAX_d7l-_&edm=ABfd0MgAAAAA&ccb=7-4&oh=3ea3756783f42f1e023e714e96c80d30&oe=60AAE5DC&_nc_sid=7bff83', 'tag': []}\n",
      "******************\n",
      "{'name': 'Sophia', 'instagram': 's.ombn', 'age': '19', 'picture': 'https://scontent-cdt1-1.cdninstagram.com/v/t51.2885-19/s150x150/118074854_330819444947402_4129005329150439325_n.jpg?tp=1&_nc_ht=scontent-cdt1-1.cdninstagram.com&_nc_ohc=WFETOQ_0C6cAX-dPNCe&edm=ABfd0MgAAAAA&ccb=7-4&oh=3809f8a8b315abd515c16328a16bdb12&oe=60AA2E91&_nc_sid=7bff83', 'tag': ['Musique', 'Art', 'Spiritualité', 'Lecture', 'Voyage']}\n",
      "******************\n",
      "{'name': 'Amélie', 'instagram': 'amldlr', 'age': '21', 'picture': 'https://scontent-cdt1-1.cdninstagram.com/v/t51.2885-19/s150x150/117953152_2623185227948482_118822821398477107_n.jpg?tp=1&_nc_ht=scontent-cdt1-1.cdninstagram.com&_nc_ohc=I_veeSoSWogAX_OeGLz&edm=ABfd0MgAAAAA&ccb=7-4&oh=ac77cf1ffcb7056bf45f2ebc82dc457e&oe=60AA8F8C&_nc_sid=7bff83', 'tag': []}\n",
      "******************\n",
      "{'name': 'Elodie', 'instagram': 'elodiesvstr', 'age': '21', 'picture': 'https://scontent-cdt1-1.cdninstagram.com/v/t51.2885-19/s150x150/117209870_566762043995217_4216150694466259650_n.jpg?tp=1&_nc_ht=scontent-cdt1-1.cdninstagram.com&_nc_ohc=aX5yQSDr2f0AX-pVWJx&edm=ABfd0MgAAAAA&ccb=7-4&oh=b3dbae9faa61ea9b6c5f19ae906a2cb9&oe=60AB3567&_nc_sid=7bff83', 'tag': ['Art', 'Bénévolat', 'Personne à chien']}\n",
      "******************\n",
      "{'name': 'Yuna', 'instagram': 'yuna.lj', 'age': '19', 'picture': 'https://scontent-cdt1-1.cdninstagram.com/v/t51.2885-19/s150x150/174197231_555623718750371_8335475260008330559_n.jpg?tp=1&_nc_ht=scontent-cdt1-1.cdninstagram.com&_nc_ohc=Witb4bvqN78AX9rp6rl&edm=ABfd0MgAAAAA&ccb=7-4&oh=e509ff0185b908152c5d0e95c957c316&oe=60AAF832&_nc_sid=7bff83', 'tag': []}\n",
      "******************\n",
      "{'name': 'Chloé', 'instagram': 'clocno', 'age': '19', 'picture': 'https://scontent-cdt1-1.cdninstagram.com/v/t51.2885-19/s150x150/177872165_174129507899875_4339027311403103753_n.jpg?tp=1&_nc_ht=scontent-cdt1-1.cdninstagram.com&_nc_ohc=Wef-4TrQNloAX_Nrm0p&edm=ABfd0MgAAAAA&ccb=7-4&oh=09f7f2ce2a02387b36dd51de8a9d4e87&oe=60AB9858&_nc_sid=7bff83', 'tag': ['Photographie', 'Art', 'Voyage', 'Festivals']}\n",
      "******************\n",
      "{'name': 'Sarah', 'instagram': 'sarahstaub_1708', 'age': '21', 'picture': 'https://scontent-cdt1-1.cdninstagram.com/v/t51.2885-19/s150x150/156958672_267235971616719_8029560579744011559_n.jpg?tp=1&_nc_ht=scontent-cdt1-1.cdninstagram.com&_nc_ohc=-XXJID99uhYAX_TB9ZD&edm=ABfd0MgAAAAA&ccb=7-4&oh=18ac0c13cd2c2e812b0a95d54c8f1e7d&oe=60AAD419&_nc_sid=7bff83', 'tag': ['Prendre un verre', 'Musique', 'Tatouages', 'Relations sérieuses']}\n",
      "******************\n",
      "{'name': 'Vitoria', 'instagram': 'fvitoriadefreitas', 'age': '19', 'picture': 'https://scontent-cdt1-1.cdninstagram.com/v/t51.2885-19/s150x150/123622428_144329890713669_1432549918761195355_n.jpg?tp=1&_nc_ht=scontent-cdt1-1.cdninstagram.com&_nc_ohc=B5zx55T2OHQAX8WEO8s&edm=ABfd0MgAAAAA&ccb=7-4&oh=c3af8cb44adbdbf92b192e2ff8460c3e&oe=60AA4A86&_nc_sid=7bff83', 'tag': ['Extraverti(e)', 'Fêtes', 'Açaí', 'Se faire des amis']}\n",
      "******************\n",
      "{'name': 'Saya', 'instagram': 'saya.ddry', 'age': '19', 'picture': 'https://scontent-cdt1-1.cdninstagram.com/v/t51.2885-19/s150x150/175667257_596641631730973_1703361873054441053_n.jpg?tp=1&_nc_ht=scontent-cdt1-1.cdninstagram.com&_nc_ohc=Ky7aeauGy0gAX-Gu1f6&edm=ABfd0MgAAAAA&ccb=7-4&oh=55d6a4129328d76af00d40c76b9910c8&oe=60A944BE&_nc_sid=7bff83', 'tag': ['Thé', 'Lecture', 'Mode', 'Fêtes', 'Expositions']}\n",
      "******************\n",
      "{'name': 'Zoé', 'instagram': 'zoe_mnc', 'age': '19', 'picture': 'https://scontent-cdt1-1.cdninstagram.com/v/t51.2885-19/s150x150/171575137_285698929705304_349852116890249754_n.jpg?tp=1&_nc_ht=scontent-cdt1-1.cdninstagram.com&_nc_ohc=-SpyCk4umMoAX86qHx9&edm=ABfd0MgAAAAA&ccb=7-4&oh=3e9fdc4a5c967c879e815460a900d1be&oe=60AA6B2D&_nc_sid=7bff83', 'tag': ['Prendre un verre', 'Mode', 'Fêtes', 'Voyage', 'Art']}\n",
      "******************\n",
      "{'name': 'Lena', 'instagram': 'lenapssb', 'age': '19', 'picture': 'https://scontent-cdt1-1.cdninstagram.com/v/t51.2885-19/s150x150/176040256_124485303047144_4266367863558321845_n.jpg?tp=1&_nc_ht=scontent-cdt1-1.cdninstagram.com&_nc_ohc=BteuUXQrdAwAX8y-Fmu&edm=ABfd0MgAAAAA&ccb=7-4&oh=359cd6ad61cac358e51b9c43766660f6&oe=60AA8F91&_nc_sid=7bff83', 'tag': ['Netflix', 'Musique', 'Fêtes', 'Toujours partant(e)', 'Instagram']}\n",
      "******************\n",
      "{'name': \"Cha'\", 'instagram': 'charline_dsm', 'age': '19', 'picture': 'https://scontent-cdt1-1.cdninstagram.com/v/t51.2885-19/s150x150/175467288_277105004120989_48756497573973795_n.jpg?tp=1&_nc_ht=scontent-cdt1-1.cdninstagram.com&_nc_ohc=RQnGJ5-sNF0AX830ZRL&edm=ABfd0MgAAAAA&ccb=7-4&oh=b27bf77abb38d7d265a5543972033bce&oe=60A8CC86&_nc_sid=7bff83', 'tag': ['Netflix', 'Rencontres sans pression', 'Musique', 'Art']}\n",
      "******************\n",
      "{'name': 'Loriana', 'instagram': 'lorianaziberi', 'age': '21', 'picture': 'https://scontent-cdt1-1.cdninstagram.com/v/t51.2885-19/s150x150/145270005_109339824397829_5813579975395171906_n.jpg?tp=1&_nc_ht=scontent-cdt1-1.cdninstagram.com&_nc_ohc=EWhQHrAv130AX9oucBH&edm=ABfd0MgAAAAA&ccb=7-4&oh=39c0d498ac1566fb52e1579ca6172f31&oe=60A9D089&_nc_sid=7bff83', 'tag': ['Fêtes', 'Mode', 'Mode de seconde main', 'Personne à chat']}\n",
      "******************\n",
      "{'name': 'Younz', 'instagram': 'youna.pltk', 'age': '19', 'picture': 'https://scontent-cdt1-1.cdninstagram.com/v/t51.2885-19/s150x150/17819198_122583704956890_1311573847014637568_a.jpg?tp=1&_nc_ht=scontent-cdt1-1.cdninstagram.com&_nc_ohc=wpoN2ycJ39sAX9V-71z&edm=ABfd0MgAAAAA&ccb=7-4&oh=954209cdfb942b70f98c80e4d944ec71&oe=60A96957&_nc_sid=7bff83', 'tag': ['Cinéma', 'Art', 'Fêtes', 'Musique', 'Fripes']}\n"
     ]
    },
    {
     "name": "stdout",
     "output_type": "stream",
     "text": [
      "******************\n",
      "{'name': 'Lucie', 'instagram': 'lucieroche__', 'age': '21', 'picture': 'https://scontent-cdt1-1.cdninstagram.com/v/t51.2885-19/s150x150/168398103_217470036833408_582702071912927794_n.jpg?tp=1&_nc_ht=scontent-cdt1-1.cdninstagram.com&_nc_ohc=MlscHYjsDqgAX8SOD3Q&edm=ABfd0MgAAAAA&ccb=7-4&oh=5345ae09c6cc01ba22f5db7e66b81c53&oe=60AA055C&_nc_sid=7bff83', 'tag': ['Netflix', 'Photographie', 'Mode', 'Voyage', 'Fripes']}\n",
      "******************\n",
      "{'name': 'Emma', 'instagram': 'emma.greco', 'age': '19', 'picture': 'https://scontent-cdt1-1.cdninstagram.com/v/t51.2885-19/s150x150/131281239_1927032997479443_3552896603887396734_n.jpg?tp=1&_nc_ht=scontent-cdt1-1.cdninstagram.com&_nc_ohc=nmApsIUxcOgAX_j4lCN&edm=ABfd0MgAAAAA&ccb=7-4&oh=c2bbd5892640058daa86daa13f3bbb69&oe=60A963C9&_nc_sid=7bff83', 'tag': []}\n",
      "******************\n",
      "{'name': 'Lucie', 'instagram': 'Louckky', 'age': '21', 'picture': 'https://scontent-cdt1-1.cdninstagram.com/v/t51.2885-19/s150x150/168053539_458828035337430_8208795684164924190_n.jpg?tp=1&_nc_ht=scontent-cdt1-1.cdninstagram.com&_nc_ohc=LmnlyLuHffQAX--9D8g&tn=Iwpet_FeGuUFMewe&edm=ABfd0MgAAAAA&ccb=7-4&oh=4cac93a025c37821edc640efb95cb890&oe=60A8F247&_nc_sid=7bff83', 'tag': []}\n",
      "******************\n",
      "{'name': 'Anna', 'instagram': 'annadaveen', 'age': '18', 'picture': 'https://scontent-cdt1-1.cdninstagram.com/v/t51.2885-19/s150x150/132440878_433413974695365_8020829323347817966_n.jpg?tp=1&_nc_ht=scontent-cdt1-1.cdninstagram.com&_nc_ohc=mH0mx1523E0AX9tWIcB&edm=ABfd0MgAAAAA&ccb=7-4&oh=cf69942892fb272990a01a4a24911029&oe=60AA118F&_nc_sid=7bff83', 'tag': ['Mode', 'Musique', 'Art', 'Voyage', 'Prendre un verre']}\n",
      "******************\n",
      "{'name': 'Loréna', 'instagram': 'lorena.abr', 'age': '18', 'picture': 'https://scontent-cdt1-1.cdninstagram.com/v/t51.2885-19/s150x150/163248644_476583657028828_3705421067667955595_n.jpg?tp=1&_nc_ht=scontent-cdt1-1.cdninstagram.com&_nc_ohc=bkC3-l_YC-sAX-46Za-&edm=ABfd0MgAAAAA&ccb=7-4&oh=2f198a6104c09f7376f59571e078945f&oe=60A9BAE2&_nc_sid=7bff83', 'tag': ['Mode', 'Art', 'Rencontres sans pression']}\n",
      "******************\n",
      "{'name': 'Lea', 'instagram': 'Safetyl', 'age': '19', 'picture': 'https://scontent-cdt1-1.cdninstagram.com/v/t51.2885-19/s150x150/176318442_269174408191675_6343457170251567038_n.jpg?tp=1&_nc_ht=scontent-cdt1-1.cdninstagram.com&_nc_ohc=l_D7Pku5SKQAX-ncfbQ&edm=ABfd0MgAAAAA&ccb=7-4&oh=124f60fd4c92367ada8e769b6f2c0f4e&oe=60AB3DFD&_nc_sid=7bff83', 'tag': ['Netflix', 'Sneakers', 'Mode', 'Musique', 'Shopping']}\n",
      "******************\n",
      "{'name': 'Marine', 'instagram': 'marine_arb', 'age': '21', 'picture': 'https://scontent-cdt1-1.cdninstagram.com/v/t51.2885-19/s150x150/176336525_295694172014683_7473681811586822435_n.jpg?tp=1&_nc_ht=scontent-cdt1-1.cdninstagram.com&_nc_ohc=yyCG4gcdWtEAX_g3Puz&edm=ABfd0MgAAAAA&ccb=7-4&oh=1e744bafc8a1625490e10ef4640b6b43&oe=60AB261D&_nc_sid=7bff83', 'tag': ['Pique-nique', 'Mode', 'Voyage', 'Relations sérieuses', 'Art']}\n",
      "******************\n",
      "{'name': 'Célia', 'instagram': 'celiaapinheiro', 'age': '21', 'picture': 'https://scontent-cdt1-1.cdninstagram.com/v/t51.2885-19/s150x150/169315404_756332045046310_2228137001360887611_n.jpg?tp=1&_nc_ht=scontent-cdt1-1.cdninstagram.com&_nc_ohc=zyINcVu0RogAX-IxCUC&edm=ABfd0MgAAAAA&ccb=7-4&oh=898fdfba5e7effbf8f46db643a00fee0&oe=60AAB239&_nc_sid=7bff83', 'tag': ['Mode', 'Happy hour', 'Voyage', 'Se faire des amis', 'Shopping']}\n",
      "******************\n",
      "{'name': 'Melissa', 'instagram': 'melissa.hmd', 'age': '21', 'picture': 'https://scontent-cdt1-1.cdninstagram.com/v/t51.2885-19/s150x150/108293768_738918883534363_4810770384864241157_n.jpg?tp=1&_nc_ht=scontent-cdt1-1.cdninstagram.com&_nc_ohc=g6RLZNAUAc8AX9sFxvx&edm=ABfd0MgAAAAA&ccb=7-4&oh=1beb963493bde3f427e69cfefdf3e03a&oe=60AA615E&_nc_sid=7bff83', 'tag': ['Relations sérieuses', 'Fitness', 'Mode', 'Personne à chien', 'Personne à chat']}\n",
      "******************\n",
      "{'name': 'Lea', 'instagram': 'louplea', 'age': '19', 'picture': 'https://scontent-cdt1-1.cdninstagram.com/v/t51.2885-19/s150x150/118190668_430891134520053_5475092265190238651_n.jpg?tp=1&_nc_ht=scontent-cdt1-1.cdninstagram.com&_nc_ohc=SM72-ufbvs4AX99fsX8&edm=ABfd0MgAAAAA&ccb=7-4&oh=6ca22a0b09c31adebe86269869a99f1d&oe=60A83573&_nc_sid=7bff83', 'tag': ['Fêtes', 'Voyage', 'Toujours partant(e)']}\n",
      "******************\n",
      "{'name': 'clara', 'instagram': 'ozjgushfudhsixjey', 'age': '19', 'picture': 'https://scontent-cdt1-1.cdninstagram.com/v/t51.2885-19/s150x150/166709990_129806309154437_4662072009594518444_n.jpg?tp=1&_nc_ht=scontent-cdt1-1.cdninstagram.com&_nc_ohc=FFzmRFyi18IAX-y3Ide&edm=ABfd0MgAAAAA&ccb=7-4&oh=bb9985b967a81a715597464d73e4090f&oe=60AA6950&_nc_sid=7bff83', 'tag': []}\n",
      "******************\n",
      "{'name': 'Mathilde', 'instagram': 'mathilde_marier', 'age': '21', 'picture': 'https://scontent-cdt1-1.cdninstagram.com/v/t51.2885-19/s150x150/162488694_2763989320508968_4366840329089497305_n.jpg?tp=1&_nc_ht=scontent-cdt1-1.cdninstagram.com&_nc_ohc=Qqsp5V_6etgAX97tW8B&edm=ABfd0MgAAAAA&ccb=7-4&oh=02f85880ac16a2fe0bf112ad4f8d54c7&oe=60AB41F0&_nc_sid=7bff83', 'tag': []}\n",
      "******************\n",
      "{'name': 'Samia', 'instagram': 'samist0rm', 'age': '25', 'picture': 'https://scontent-cdt1-1.cdninstagram.com/v/t51.2885-19/s150x150/168930609_1156867484736575_2349766884296142948_n.jpg?tp=1&_nc_ht=scontent-cdt1-1.cdninstagram.com&_nc_ohc=RHEygYlwfpcAX9ta8wY&edm=ABfd0MgAAAAA&ccb=7-4&oh=eddb573d110ab49eea4828bb0b0b6f8e&oe=60A86E2C&_nc_sid=7bff83', 'tag': ['Surf', 'Mode', 'Nature', 'Musée', 'Art']}\n",
      "******************\n",
      "{'name': 'Cameron', 'instagram': 'kaitlynacameron', 'age': '21', 'picture': 'https://scontent-cdt1-1.cdninstagram.com/v/t51.2885-19/s150x150/135693622_3911954608872447_6773309544073094419_n.jpg?tp=1&_nc_ht=scontent-cdt1-1.cdninstagram.com&_nc_ohc=3g_OiDAeec0AX9DXOpD&edm=ABfd0MgAAAAA&ccb=7-4&oh=8476b8794160bb3075b29d8fb2311f68&oe=60AB23E8&_nc_sid=7bff83', 'tag': ['Art', 'Mode', 'Course à pied', 'Voyage', 'Sports']}\n",
      "******************\n",
      "{'name': 'Jade', 'instagram': 'jadecstl', 'age': '21', 'picture': 'https://scontent-cdt1-1.cdninstagram.com/v/t51.2885-19/s150x150/177680131_363144315201147_816959314788189206_n.jpg?tp=1&_nc_ht=scontent-cdt1-1.cdninstagram.com&_nc_ohc=cOdIQfsMzHEAX-RydfI&edm=ABfd0MgAAAAA&ccb=7-4&oh=10e30d895a8756deec5aef9233c31e23&oe=60A85A95&_nc_sid=7bff83', 'tag': ['Fitness', 'Sneakers', 'Football', 'Voyage']}\n",
      "******************\n",
      "{'name': 'Lana', 'instagram': 'lanaguedj_', 'age': '18', 'picture': 'https://scontent-cdt1-1.cdninstagram.com/v/t51.2885-19/s150x150/137001646_1813329512160388_2829576661762702087_n.jpg?tp=1&_nc_ht=scontent-cdt1-1.cdninstagram.com&_nc_ohc=YHV0r1fPFl4AX8ZESwZ&tn=WMaXOTQO1soEaDFt&edm=ABfd0MgAAAAA&ccb=7-4&oh=64d5583d7efa47cabc39790582c01480&oe=60AAA477&_nc_sid=7bff83', 'tag': ['Netflix', 'Shopping', 'Voyage', 'Sushi', 'Musique']}\n",
      "******************\n"
     ]
    }
   ],
   "source": [
    "size = es_client.count(index='tinderplusplus', doc_type='algo')[\"count\"]\n",
    "try:\n",
    "    result = es_client.search(index=\"tinderplusplus\", size=size)\n",
    "\n",
    "    for hit in result['hits']['hits']:\n",
    "        \n",
    "        insta = hit['_source']['instagram']\n",
    "        age = hit['_source']['age']\n",
    "        name = hit['_source']['name']\n",
    "        tag = hit['_source']['tag']\n",
    "        \n",
    "        insta = CleanChar(insta)\n",
    "        \n",
    "        if insta == \"\":\n",
    "            print(\"deleted\")\n",
    "            \n",
    "        picture = TakePicture(insta)\n",
    "        \n",
    "        if picture != \"\":\n",
    "            data = {\n",
    "                \"name\": name,\n",
    "                \"instagram\": insta,\n",
    "                \"age\": age,\n",
    "                \"picture\": picture,\n",
    "                \"tag\": tag\n",
    "            }\n",
    "            print(data)\n",
    "            PushProdDataBase(data)\n",
    "        else:\n",
    "            print(\"deleted\")\n",
    "\n",
    "        time.sleep(3)\n",
    "        print(\"******************\")\n",
    "except:\n",
    "     None"
   ]
  },
  {
   "cell_type": "code",
   "execution_count": 123,
   "metadata": {},
   "outputs": [
    {
     "data": {
      "text/plain": [
       "'https://scontent-cdt1-1.cdninstagram.com/v/t51.2885-19/s150x150/175544652_933724687391038_6800130805814210437_n.jpg?tp=1&_nc_ht=scontent-cdt1-1.cdninstagram.com&_nc_ohc=bZkYx06Dz9IAX9VoNJ2&edm=ABfd0MgAAAAA&ccb=7-4&oh=2578c3a09fe3643971cef095276bccb7&oe=60AB59CC&_nc_sid=7bff83'"
      ]
     },
     "execution_count": 123,
     "metadata": {},
     "output_type": "execute_result"
    }
   ],
   "source": [
    "TakePicture(\"lourabier\")"
   ]
  },
  {
   "cell_type": "markdown",
   "metadata": {},
   "source": [
    "### CLOSE BROWSER"
   ]
  },
  {
   "cell_type": "code",
   "execution_count": 140,
   "metadata": {
    "scrolled": true
   },
   "outputs": [],
   "source": [
    "driver.close()\n",
    "seconddriver.close()"
   ]
  }
 ],
 "metadata": {
  "kernelspec": {
   "display_name": "Python 3",
   "language": "python",
   "name": "python3"
  },
  "language_info": {
   "codemirror_mode": {
    "name": "ipython",
    "version": 3
   },
   "file_extension": ".py",
   "mimetype": "text/x-python",
   "name": "python",
   "nbconvert_exporter": "python",
   "pygments_lexer": "ipython3",
   "version": "3.8.3"
  }
 },
 "nbformat": 4,
 "nbformat_minor": 4
}
