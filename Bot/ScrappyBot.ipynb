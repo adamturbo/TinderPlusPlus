{
 "cells": [
  {
   "cell_type": "code",
   "execution_count": 1,
   "metadata": {},
   "outputs": [],
   "source": [
    "from selenium import webdriver\n",
    "import urllib.request\n",
    "import time"
   ]
  },
  {
   "cell_type": "code",
   "execution_count": 2,
   "metadata": {},
   "outputs": [],
   "source": [
    "IS_LINUX = False"
   ]
  },
  {
   "cell_type": "code",
   "execution_count": 3,
   "metadata": {},
   "outputs": [],
   "source": [
    "driver = webdriver.Firefox(executable_path=\"geckodriver.exe\" if not IS_LINUX else \"./chromedriver_linux\")\n",
    "\n",
    "##UA = 'Mozilla/5.0 (Windows NT 6.1; WOW64; rv:25.0) Gecko/20100101 Firefox/25.0'\n",
    "#PHANTOMJS_ARG = {'phantomjs.page.settings.userAgent': UA}\n",
    "\n",
    "#driver = webdriver.PhantomJS(desired_capabilities=PHANTOMJS_ARG)"
   ]
  },
  {
   "cell_type": "code",
   "execution_count": 4,
   "metadata": {
    "scrolled": true
   },
   "outputs": [],
   "source": [
    "driver.get(\"https://tinder.com/app/recs\")"
   ]
  },
  {
   "cell_type": "markdown",
   "metadata": {},
   "source": [
    "### Connexion "
   ]
  },
  {
   "cell_type": "code",
   "execution_count": 5,
   "metadata": {},
   "outputs": [],
   "source": [
    "classbutton = \"button Lts($ls-s) Z(0) CenterAlign Mx(a) Cur(p) Tt(u) Ell Px(24px) Px(20px)--s Py(0) Bdrs(0) Mih(40px) Fw($semibold) focus-button-style Fz($s) Bdrs(4px) Bg(#fff) C($c-pink) Bg($primary-gradient):h C(#fff):h\"\n",
    "python_button = driver.find_element_by_xpath('//*[@class=\"'+ classbutton +'\"]')\n",
    "python_button.click()"
   ]
  },
  {
   "cell_type": "code",
   "execution_count": 6,
   "metadata": {},
   "outputs": [],
   "source": [
    "connect_phone_number = \"Connexion avec un numéro de tél.\"\n",
    "python_button = driver.find_element_by_xpath('//*[@aria-label=\"'+ connect_phone_number +'\"]')\n",
    "python_button.click()"
   ]
  },
  {
   "cell_type": "code",
   "execution_count": 7,
   "metadata": {},
   "outputs": [],
   "source": [
    "driver.switch_to.default_content()\n",
    "driver.switch_to.frame(driver.find_element_by_tag_name(\"iframe\"))\n",
    "driver.switch_to.frame(driver.find_element_by_tag_name(\"iframe\"))\n",
    "driver.switch_to.frame(driver.find_element_by_tag_name(\"iframe\"))"
   ]
  },
  {
   "cell_type": "code",
   "execution_count": 8,
   "metadata": {},
   "outputs": [],
   "source": [
    "python_button = driver.find_element_by_id(\"home_children_button\")\n",
    "python_button.click()"
   ]
  },
  {
   "cell_type": "markdown",
   "metadata": {},
   "source": [
    "### TakeCaptcha\n",
    "Ignorer cette cell"
   ]
  },
  {
   "cell_type": "code",
   "execution_count": 11,
   "metadata": {},
   "outputs": [],
   "source": [
    "i = 11\n",
    "\n",
    "img = driver.find_element_by_id(\"game_challengeItem_image\")\n",
    "src = img.get_attribute('src')\n",
    "name = \"image_0\" + str(i) + \".png\"\n",
    "urllib.request.urlretrieve(src, name)\n",
    "i += 1\n",
    "\n",
    "filedata = urllib.request.urlopen(src)\n",
    "datatowrite = filedata.read()\n",
    " \n",
    "with open('/projet/ESGI/3ESGI/NoSQL/BotCapcha/' + name, 'wb') as f:\n",
    "    f.write(datatowrite)"
   ]
  },
  {
   "cell_type": "code",
   "execution_count": 9,
   "metadata": {},
   "outputs": [],
   "source": [
    "driver.switch_to.default_content()\n",
    "phone_element = driver.find_element_by_name(\"phone_number\")\n",
    "phone_element.send_keys(\"0695776028\")"
   ]
  },
  {
   "cell_type": "code",
   "execution_count": 69,
   "metadata": {},
   "outputs": [],
   "source": [
    "def TakeInstagram():\n",
    "    try:\n",
    "        class_desc = \"P(16px) Ta(start) Us(t) C($c-secondary) BreakWord Whs(pl) Fz($ms)\"\n",
    "        takedesc = driver.find_element_by_xpath('//*[@class=\"'+ class_desc +'\"]')\n",
    "        takedesc = takedesc.find_elements_by_css_selector(\"*\")\n",
    "\n",
    "        insta_list = [ \"📷 \", \"📸 \",\"@\",\n",
    "            \"IG: \", \"Ig: \",\"ig: \", \"insta: \", \"instagram: \", \"Insta: \", \"Instagram: \", \n",
    "            \"IG:\", \"Ig:\",\"ig:\", \"insta:\", \"instagram:\", \"Insta:\", \"Instagram:\",\n",
    "            \"IG :\", \"Ig :\",\"ig :\", \"insta :\", \"instagram :\", \"Insta :\", \"Instagram :\",\n",
    "            \"IG : \", \"Ig : \", \"ig : \", \"insta : \", \"instagram : \", \"Insta : \", \"Instagram : \", \n",
    "            \"IG \", \"Ig \",\"ig \", \"insta \", \"instagram \", \"Insta \", \"Instagram \"]\n",
    "\n",
    "        description = takedesc[0].text\n",
    "        instagram = \"\"\n",
    "        description = description.split(\"\\n\")\n",
    "\n",
    "        for desc_split in description:\n",
    "\n",
    "            for insta_occurent in insta_list:\n",
    "\n",
    "                result = desc_split.find(insta_occurent, 0, len(desc_split))\n",
    "                if result != -1:\n",
    "                    start = result + len(insta_occurent)\n",
    "                    instagram = desc_split[start: len(desc_split)]\n",
    "                    break\n",
    "\n",
    "        instagram = instagram.split(\" \")\n",
    "        for word in instagram:\n",
    "            \n",
    "            if word != \" \":\n",
    "                instagram = word;\n",
    "                \n",
    "        return instagram\n",
    "    \n",
    "    except:\n",
    "        \n",
    "        return \"\""
   ]
  },
  {
   "cell_type": "code",
   "execution_count": 52,
   "metadata": {},
   "outputs": [],
   "source": [
    "def TakeTag():\n",
    "    try:\n",
    "        class_tag = \"Mt(4px)\"\n",
    "        taketag = driver.find_element_by_xpath('//*[@class=\"'+ class_tag +'\"]')\n",
    "        taketag = taketag.find_elements_by_css_selector(\"*\")\n",
    "        \n",
    "        list_tag = []\n",
    "        \n",
    "        for tag in taketag:\n",
    "            list_tag.append(tag.text)\n",
    "        \n",
    "        \n",
    "        return list_tag\n",
    "    \n",
    "    except:\n",
    "        \n",
    "        return []"
   ]
  },
  {
   "cell_type": "code",
   "execution_count": 53,
   "metadata": {},
   "outputs": [],
   "source": [
    "def TakeName():\n",
    "    try:\n",
    "        class_name = \"Fz($xl) Fw($bold) Fxs(1) Fxw(w) Pend(8px) M(0) D(i)\"\n",
    "        takename = driver.find_element_by_xpath('//*[@class=\"'+ class_name +'\"]')\n",
    "        \n",
    "        return takename.text\n",
    "    \n",
    "    except:\n",
    "        \n",
    "        return \"\""
   ]
  },
  {
   "cell_type": "code",
   "execution_count": 54,
   "metadata": {},
   "outputs": [],
   "source": [
    "def TakeAge():\n",
    "    try:\n",
    "        class_age = \"Whs(nw) Fz($l)\"\n",
    "        takeage = driver.find_element_by_xpath('//*[@class=\"'+ class_age +'\"]')\n",
    "        \n",
    "        return takeage.text\n",
    "    \n",
    "    except:\n",
    "        \n",
    "        return \"\""
   ]
  },
  {
   "cell_type": "code",
   "execution_count": 55,
   "metadata": {},
   "outputs": [],
   "source": [
    "def TakePicture():\n",
    "    try:\n",
    "        class_picture = \"profileCard__slider__img Z(-1)\"\n",
    "        takepicture = driver.find_element_by_xpath('//*[@class=\"'+ class_picture +'\"]')\n",
    "        style = takepicture.get_attribute(\"style\")\n",
    "        \n",
    "        url = style[style.find(\"url\") + 5: len(style)].split(\"\\\")\")[0]\n",
    "        \n",
    "        return url\n",
    "    \n",
    "    except:\n",
    "        \n",
    "        return \"\""
   ]
  },
  {
   "cell_type": "code",
   "execution_count": 71,
   "metadata": {},
   "outputs": [
    {
     "name": "stdout",
     "output_type": "stream",
     "text": [
      "alien.t\n",
      "['Festivals', 'Escalade', 'Natation', 'Mode', 'Skateboarder']\n",
      "Alienor\n",
      "19\n",
      "https://images-ssl.gotinder.com/5f07206dd4bafb0100f4c201/640x800_33bbe342-6c92-4b05-ac31-62f0eb87ff86.jpg\n"
     ]
    }
   ],
   "source": [
    "#button_info_class = \"Pos(a) D(f) Jc(sb) C(#fff) Ta(start) B(0) W(100%) Ai(fe) P(16px) P(20px)--l Cur(p) focus-button-style\"\n",
    "#python_info_button = driver.find_element_by_xpath('//*[@class=\"'+ button_info_class +'\"]')\n",
    "#python_info_button.click()\n",
    "from selenium.webdriver.common.action_chains import ActionChains\n",
    "from selenium.webdriver.common.keys import Keys\n",
    "\n",
    "actions = ActionChains(driver)\n",
    "actions.send_keys(Keys.ARROW_UP + 't')\n",
    "actions.perform()\n",
    "insta = TakeInstagram()\n",
    "\n",
    "if insta != \"\":\n",
    "    tag = TakeTag()\n",
    "    name = TakeName()\n",
    "    age = TakeAge()\n",
    "    picture = TakePicture()\n",
    "    \n",
    "    print(insta)\n",
    "    print(tag)\n",
    "    print(name)\n",
    "    print(age)\n",
    "    print(picture)"
   ]
  },
  {
   "cell_type": "code",
   "execution_count": null,
   "metadata": {},
   "outputs": [],
   "source": []
  },
  {
   "cell_type": "code",
   "execution_count": 73,
   "metadata": {
    "scrolled": true
   },
   "outputs": [],
   "source": [
    "driver.close()"
   ]
  },
  {
   "cell_type": "code",
   "execution_count": null,
   "metadata": {},
   "outputs": [],
   "source": []
  }
 ],
 "metadata": {
  "kernelspec": {
   "display_name": "Python 3",
   "language": "python",
   "name": "python3"
  },
  "language_info": {
   "codemirror_mode": {
    "name": "ipython",
    "version": 3
   },
   "file_extension": ".py",
   "mimetype": "text/x-python",
   "name": "python",
   "nbconvert_exporter": "python",
   "pygments_lexer": "ipython3",
   "version": "3.8.3"
  }
 },
 "nbformat": 4,
 "nbformat_minor": 4
}
