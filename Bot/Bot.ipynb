{
 "cells": [
  {
   "cell_type": "code",
   "execution_count": 1,
   "metadata": {},
   "outputs": [
    {
     "name": "stdout",
     "output_type": "stream",
     "text": [
      "Collecting mss\n",
      "  Downloading mss-6.1.0-py3-none-any.whl (76 kB)\n",
      "Installing collected packages: mss\n",
      "Successfully installed mss-6.1.0\n"
     ]
    }
   ],
   "source": [
    "!pip install mss"
   ]
  },
  {
   "cell_type": "code",
   "execution_count": null,
   "metadata": {},
   "outputs": [],
   "source": [
    "from pynput.mouse import Controller, Button, Listener\n",
    "from mss import mss"
   ]
  },
  {
   "cell_type": "code",
   "execution_count": null,
   "metadata": {},
   "outputs": [
    {
     "name": "stdout",
     "output_type": "stream",
     "text": [
      "Mouse Clicked 1619 306\n",
      "Mouse Clicked 1305 623\n",
      "Mouse Clicked 1629 616\n",
      "Mouse Clicked 419 171\n",
      "Mouse Clicked 419 173\n",
      "Mouse Clicked 419 173\n",
      "Mouse Clicked 376 822\n",
      "Mouse Clicked 392 804\n",
      "Mouse Clicked 426 169\n",
      "Mouse Clicked 415 554\n",
      "Mouse Clicked 431 487\n",
      "Mouse Clicked 482 172\n",
      "Mouse Clicked 549 270\n",
      "Mouse Clicked 394 447\n",
      "Mouse Clicked 397 416\n",
      "Mouse Clicked 333 135\n",
      "Mouse Clicked 348 134\n",
      "Mouse Clicked 281 439\n",
      "Mouse Clicked 318 504\n",
      "Mouse Clicked 1314 626\n",
      "Mouse Clicked 1312 626\n",
      "Mouse Clicked 1312 626\n",
      "Mouse Clicked 1312 626\n",
      "Mouse Clicked 1614 630\n",
      "Mouse Clicked 1614 630\n",
      "Mouse Clicked 1614 630\n",
      "Mouse Clicked 1614 630\n",
      "Mouse Clicked 257 91\n",
      "Mouse Clicked 267 1050\n",
      "Mouse Clicked -998 359\n",
      "Mouse Clicked 450 842\n",
      "Mouse Clicked 312 585\n",
      "Mouse Clicked 78 57\n"
     ]
    }
   ],
   "source": [
    "def on_click(x,y,button,pressed):\n",
    "    if pressed:\n",
    "        print(\"Mouse Clicked {0} {1}\".format(x,y))\n",
    "\n",
    "#with Listener(on_click=on_click) as listener:\n",
    "#    listener.join()\n",
    "        \n",
    "def swapBot():\n",
    "    x_coorinate = 1312\n",
    "    y_coorinate = 504\n",
    "    screenshot = (x_coorinate, y_coorinate, x_coorinate + )\n",
    "    middle_tile = (57, 170, 283, 396)\n",
    "    mouse = Controller()\n",
    "    with mss() as sct:\n",
    "        img = sct.grab(screenshot)\n",
    "        for mid in middle_tile:\n",
    "            if img.pixel(mid, 0)[0] == 0 and img.pixel(mid, 14)[0] == 0:\n",
    "                mouse.position = (x_coorinate + mid, y_coorinate + 109)\n",
    "                mouse.click(Button.left, 1)\n",
    "                print('Click')\n",
    "while 1:\n",
    "    swapBot()"
   ]
  },
  {
   "cell_type": "code",
   "execution_count": null,
   "metadata": {},
   "outputs": [],
   "source": []
  }
 ],
 "metadata": {
  "kernelspec": {
   "display_name": "Python 3",
   "language": "python",
   "name": "python3"
  },
  "language_info": {
   "codemirror_mode": {
    "name": "ipython",
    "version": 3
   },
   "file_extension": ".py",
   "mimetype": "text/x-python",
   "name": "python",
   "nbconvert_exporter": "python",
   "pygments_lexer": "ipython3",
   "version": "3.8.3"
  }
 },
 "nbformat": 4,
 "nbformat_minor": 4
}
