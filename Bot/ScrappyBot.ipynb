{
 "cells": [
  {
   "cell_type": "code",
   "execution_count": 206,
   "metadata": {},
   "outputs": [],
   "source": [
    "from selenium import webdriver\n",
    "import urllib.request\n",
    "import time\n",
    "import random\n",
    "\n",
    "from selenium.webdriver.common.action_chains import ActionChains\n",
    "from selenium.webdriver.common.keys import Keys\n",
    "\n",
    "from elasticsearch import Elasticsearch"
   ]
  },
  {
   "cell_type": "code",
   "execution_count": 207,
   "metadata": {},
   "outputs": [],
   "source": [
    "LOCAL = True\n",
    "es_client = Elasticsearch(hosts=[\"localhost\" if LOCAL else \"elasticsearch\"])"
   ]
  },
  {
   "cell_type": "code",
   "execution_count": 3,
   "metadata": {},
   "outputs": [],
   "source": [
    "IS_LINUX = False"
   ]
  },
  {
   "cell_type": "code",
   "execution_count": 4,
   "metadata": {},
   "outputs": [],
   "source": [
    "driver = webdriver.Firefox(executable_path=\"geckodriver.exe\" if not IS_LINUX else \"./chromedriver_linux\")\n",
    "\n",
    "##UA = 'Mozilla/5.0 (Windows NT 6.1; WOW64; rv:25.0) Gecko/20100101 Firefox/25.0'\n",
    "#PHANTOMJS_ARG = {'phantomjs.page.settings.userAgent': UA}\n",
    "\n",
    "#driver = webdriver.PhantomJS(desired_capabilities=PHANTOMJS_ARG)"
   ]
  },
  {
   "cell_type": "code",
   "execution_count": 5,
   "metadata": {
    "scrolled": true
   },
   "outputs": [],
   "source": [
    "driver.get(\"https://tinder.com/app/recs\")"
   ]
  },
  {
   "cell_type": "markdown",
   "metadata": {},
   "source": [
    "### Connexion "
   ]
  },
  {
   "cell_type": "code",
   "execution_count": 6,
   "metadata": {},
   "outputs": [],
   "source": [
    "classbutton = \"button Lts($ls-s) Z(0) CenterAlign Mx(a) Cur(p) Tt(u) Ell Px(24px) Px(20px)--s Py(0) Bdrs(0) Mih(40px) Fw($semibold) focus-button-style Fz($s) Bdrs(4px) Bg(#fff) C($c-pink) Bg($primary-gradient):h C(#fff):h\"\n",
    "python_button = driver.find_element_by_xpath('//*[@class=\"'+ classbutton +'\"]')\n",
    "python_button.click()"
   ]
  },
  {
   "cell_type": "code",
   "execution_count": 7,
   "metadata": {},
   "outputs": [],
   "source": [
    "connect_phone_number = \"Connexion avec un numéro de tél.\"\n",
    "python_button = driver.find_element_by_xpath('//*[@aria-label=\"'+ connect_phone_number +'\"]')\n",
    "python_button.click()"
   ]
  },
  {
   "cell_type": "code",
   "execution_count": 8,
   "metadata": {},
   "outputs": [],
   "source": [
    "driver.switch_to.default_content()\n",
    "driver.switch_to.frame(driver.find_element_by_tag_name(\"iframe\"))\n",
    "driver.switch_to.frame(driver.find_element_by_tag_name(\"iframe\"))\n",
    "driver.switch_to.frame(driver.find_element_by_tag_name(\"iframe\"))"
   ]
  },
  {
   "cell_type": "code",
   "execution_count": 9,
   "metadata": {},
   "outputs": [],
   "source": [
    "python_button = driver.find_element_by_id(\"home_children_button\")\n",
    "python_button.click()"
   ]
  },
  {
   "cell_type": "markdown",
   "metadata": {},
   "source": [
    "### TakeCaptcha\n",
    "Ignorer cette cell"
   ]
  },
  {
   "cell_type": "code",
   "execution_count": 11,
   "metadata": {},
   "outputs": [],
   "source": [
    "i = 11\n",
    "\n",
    "img = driver.find_element_by_id(\"game_challengeItem_image\")\n",
    "src = img.get_attribute('src')\n",
    "name = \"image_0\" + str(i) + \".png\"\n",
    "urllib.request.urlretrieve(src, name)\n",
    "i += 1\n",
    "\n",
    "filedata = urllib.request.urlopen(src)\n",
    "datatowrite = filedata.read()\n",
    " \n",
    "with open('/projet/ESGI/3ESGI/NoSQL/BotCapcha/' + name, 'wb') as f:\n",
    "    f.write(datatowrite)"
   ]
  },
  {
   "cell_type": "code",
   "execution_count": 10,
   "metadata": {},
   "outputs": [],
   "source": [
    "driver.switch_to.default_content()\n",
    "phone_element = driver.find_element_by_name(\"phone_number\")\n",
    "phone_element.send_keys(\"0695776028\")"
   ]
  },
  {
   "cell_type": "code",
   "execution_count": 165,
   "metadata": {},
   "outputs": [],
   "source": [
    "def TakeInstagram():\n",
    "    try:\n",
    "        class_desc = \"P(16px) Ta(start) Us(t) C($c-secondary) BreakWord Whs(pl) Fz($ms)\"\n",
    "        takedesc = driver.find_element_by_xpath('//*[@class=\"'+ class_desc +'\"]')\n",
    "        takedesc = takedesc.find_elements_by_css_selector(\"*\")\n",
    "\n",
    "        insta_list = [ \"📷 \", \"📸 \",\"@\",\n",
    "            \"IG: \", \"Ig: \",\"ig: \", \"insta: \", \"instagram: \", \"Insta: \", \"Instagram: \", \"INSTA: \", \"INSTAGRAM: \",\n",
    "            \"IG, \", \"Ig, \",\"ig, \", \"insta, \", \"instagram, \", \"Insta, \", \"Instagram, \", \"INSTA, \", \"INSTAGRAM: \",\n",
    "            \"IG,\", \"Ig,\",\"ig,\", \"insta,\", \"instagram,\", \"Insta,\", \"Instagram,\", \"INSTA,\", \"INSTAGRAM,\",\n",
    "            \"IG:\", \"Ig:\",\"ig:\", \"insta:\", \"instagram:\", \"Insta:\", \"Instagram:\", \"INSTA:\", \"INSTAGRAM:\",\n",
    "            \"IG : \", \"Ig : \", \"ig : \", \"insta : \", \"instagram : \", \"Insta : \", \"Instagram : \", \"INSTA : \", \"INSTAGRAM : \",\n",
    "            \"IG :\", \"Ig :\",\"ig :\", \"insta :\", \"instagram :\", \"Insta :\", \"Instagram :\", \"INSTA :\", \"INSTAGRAM :\",\n",
    "            \"IG \", \"Ig \",\"ig \", \"insta \", \"instagram \", \"Insta \", \"Instagram \", \"INSTA  \", \"INSTAGRAM \"]\n",
    "\n",
    "        description = takedesc[0].text\n",
    "        instagram = \"\"\n",
    "        description = description.split(\"\\n\")\n",
    "\n",
    "        for desc_split in description:\n",
    "\n",
    "            for insta_occurent in insta_list:\n",
    "\n",
    "                result = desc_split.find(insta_occurent, 0, len(desc_split))\n",
    "                if result != -1:\n",
    "                    start = result + len(insta_occurent)\n",
    "                    instagram = desc_split[start: len(desc_split)]\n",
    "                    break\n",
    "\n",
    "        instagramlist = instagram.split(\" \")\n",
    "\n",
    "        for word in instagramlist:\n",
    "            \n",
    "            if word != \" \" and word != \"\" and word != \"➡️\":\n",
    "                instagram = word;\n",
    "                break\n",
    "        instagram = instagram.replace(\"(\", \"\").replace(\")\", \"\")\n",
    "        return instagram\n",
    "    \n",
    "    except:\n",
    "        \n",
    "        return \"\""
   ]
  },
  {
   "cell_type": "code",
   "execution_count": 12,
   "metadata": {},
   "outputs": [],
   "source": [
    "def TakeTag():\n",
    "    try:\n",
    "        class_tag = \"Mt(4px)\"\n",
    "        taketag = driver.find_element_by_xpath('//*[@class=\"'+ class_tag +'\"]')\n",
    "        taketag = taketag.find_elements_by_css_selector(\"*\")\n",
    "        \n",
    "        list_tag = []\n",
    "        \n",
    "        for tag in taketag:\n",
    "            list_tag.append(tag.text)\n",
    "        \n",
    "        \n",
    "        return list_tag\n",
    "    \n",
    "    except:\n",
    "        \n",
    "        return []"
   ]
  },
  {
   "cell_type": "code",
   "execution_count": 13,
   "metadata": {},
   "outputs": [],
   "source": [
    "def TakeName():\n",
    "    try:\n",
    "        class_name = \"Fz($xl) Fw($bold) Fxs(1) Fxw(w) Pend(8px) M(0) D(i)\"\n",
    "        takename = driver.find_element_by_xpath('//*[@class=\"'+ class_name +'\"]')\n",
    "        \n",
    "        return takename.text\n",
    "    \n",
    "    except:\n",
    "        \n",
    "        return \"\""
   ]
  },
  {
   "cell_type": "code",
   "execution_count": 14,
   "metadata": {},
   "outputs": [],
   "source": [
    "def TakeAge():\n",
    "    try:\n",
    "        class_age = \"Whs(nw) Fz($l)\"\n",
    "        takeage = driver.find_element_by_xpath('//*[@class=\"'+ class_age +'\"]')\n",
    "        \n",
    "        return takeage.text\n",
    "    \n",
    "    except:\n",
    "        \n",
    "        return \"\""
   ]
  },
  {
   "cell_type": "code",
   "execution_count": 15,
   "metadata": {},
   "outputs": [],
   "source": [
    "def TakePicture():\n",
    "    try:\n",
    "        class_picture = \"profileCard__slider__img Z(-1)\"\n",
    "        takepicture = driver.find_element_by_xpath('//*[@class=\"'+ class_picture +'\"]')\n",
    "        style = takepicture.get_attribute(\"style\")\n",
    "        \n",
    "        url = style[style.find(\"url\") + 5: len(style)].split(\"\\\")\")[0]\n",
    "        \n",
    "        return url\n",
    "    \n",
    "    except:\n",
    "        \n",
    "        return \"\""
   ]
  },
  {
   "cell_type": "code",
   "execution_count": 16,
   "metadata": {},
   "outputs": [],
   "source": [
    "def PushDataBase(data):\n",
    "    es_client.index(index=\"tinderplusplus\", doc_type='algo', id=None, body=data)"
   ]
  },
  {
   "cell_type": "code",
   "execution_count": 195,
   "metadata": {},
   "outputs": [
    {
     "name": "stdout",
     "output_type": "stream",
     "text": [
      "{'name': 'Noa', 'instagram': 'itsnoacarla', 'age': '20', 'picture': 'https://images-ssl.gotinder.com/u/vohGc8UzJigNpRcDmJmLVi/bLFgroGSzJKNmQHFu9e3bs.jpg?Policy=eyJTdGF0ZW1lbnQiOiBbeyJSZXNvdXJjZSI6IiovdS92b2hHYzhVekppZ05wUmNEbUptTFZpLyoiLCJDb25kaXRpb24iOnsiRGF0ZUxlc3NUaGFuIjp7IkFXUzpFcG9jaFRpbWUiOjE2MTg5MzAxOTh9fX1dfQ__&Signature=G3GG7fZwjWXN-k9RxsLubFg1qXUndYd9oXrfZf9YjNrqbwujVKNA2jffVKRNEbywkFn2t96KCoGf7IWH0aShK11kLPHlq28cCsDDgQiAcu3H7FZ~BJRJorPposUBVdvBMgihXf3IT483DWyfVadBxCEqSUT7NOyaiBfZsCLO5gGECKEjZPqCPzvAzDx4uRAGu17GL390lutWvF7nqpcLeDEYlzeMtxLRf25Uud1r8jzxgADVfRV0zPIyzl6wwoRVP0IzCNEdwlvz8HMdkFoqzSQdE7krBganLLrO~PsIrTTNZCAgB7K5~5Bc47OX85D2JFr8j1AxDMzVClDU~biXCw__&Key-Pair-Id=K368TLDEUPA6OI', 'tag': ['Art', 'Tatouages', 'Mode']}\n"
     ]
    }
   ],
   "source": [
    "actions = ActionChains(driver)\n",
    "actions.send_keys(Keys.ARROW_UP + 't')\n",
    "actions.perform()\n",
    "insta = TakeInstagram()\n",
    "if insta != \"\":\n",
    "    tag = TakeTag()\n",
    "    name = TakeName()\n",
    "    age = TakeAge()\n",
    "    picture = TakePicture()\n",
    "    \n",
    "    data = {\n",
    "        \"name\": name,\n",
    "        \"instagram\": insta,\n",
    "        \"age\": age,\n",
    "        \"picture\": picture,\n",
    "        \"tag\": tag\n",
    "        \n",
    "    }\n",
    "    print(data)\n",
    "    PushDataBase(data)\n",
    "    \n",
    "rnd = random.randrange(1,5)   \n",
    "\n",
    "#time.sleep(rnd)\n",
    "#actions.send_keys(Keys.ARROW_RIGHT + 't')\n",
    "#actions.perform()   "
   ]
  },
  {
   "cell_type": "markdown",
   "metadata": {},
   "source": [
    "### View Result"
   ]
  },
  {
   "cell_type": "code",
   "execution_count": 209,
   "metadata": {},
   "outputs": [
    {
     "data": {
      "text/plain": [
       "50"
      ]
     },
     "execution_count": 209,
     "metadata": {},
     "output_type": "execute_result"
    }
   ],
   "source": [
    "es_client.count(index='tinderplusplus', doc_type='algo')[\"count\"]"
   ]
  },
  {
   "cell_type": "code",
   "execution_count": 208,
   "metadata": {},
   "outputs": [
    {
     "name": "stdout",
     "output_type": "stream",
     "text": [
      "Name : Oriane\n",
      "Age : 19\n",
      "Picture : https://images-ssl.gotinder.com/u/bbSsuciPyd5bHCYsE4hvHM/gH811aUUhfpa8sL9FEbXVJ.jpg?Policy=eyJTdGF0ZW1lbnQiOiBbeyJSZXNvdXJjZSI6IiovdS9iYlNzdWNpUHlkNWJIQ1lzRTRodkhNLyoiLCJDb25kaXRpb24iOnsiRGF0ZUxlc3NUaGFuIjp7IkFXUzpFcG9jaFRpbWUiOjE2MTg5MjcwMjR9fX1dfQ__&Signature=HKTg46pwYSORL-2PsraiC-6rGC-UxwYev0uXKWix3iLcBmwJNrQ7Q17nxCBxn7IzYxrKEoeRzC-s6F-CkhPIxPbSbwEtG9cJ5CbmEdPEbFlSUP5UNkFrzA4jbxkVk6gxC4r3U5SH7JcJo8aDtqVQQwDLG8puEzmHyPSFxfFmQprwtoGv0Gp4yHES5mdZ5o6yJZ2fLqFid2kb~zet~TKYakLtnhC86yybdWe8lZNbVNoPWU7gQVqa92~yT1wKniR2baYKlehvy7eklV2vKgrpr~iWSpwAaVzgpYoA8EHvYkF0pMfj5v4lC~p2n5idqM5ow7A1x1V1dHt6albCEvuyIQ__&Key-Pair-Id=K368TLDEUPA6OI \n",
      "Instagram : oriane_sp \n",
      "Tags : ['Tatouages', 'Prendre un verre', 'Rencontres sans pression'] \n",
      "\n",
      "******************\n",
      "Name : Mathilde\n",
      "Age : 19\n",
      "Picture : https://images-ssl.gotinder.com/u/t39V8FaA1KAo24toDFXLWW/721tUc8GtwstEFjw6TGaes.jpg?Policy=eyJTdGF0ZW1lbnQiOiBbeyJSZXNvdXJjZSI6IiovdS90MzlWOEZhQTFLQW8yNHRvREZYTFdXLyoiLCJDb25kaXRpb24iOnsiRGF0ZUxlc3NUaGFuIjp7IkFXUzpFcG9jaFRpbWUiOjE2MTg5MjcxNzB9fX1dfQ__&Signature=W5vK8roXRxs5TMKaoZ~WYP3r7OmgDhjB9UevYYKJoJ12iRe5hYDf7k4NYok8GsHmN3CdgNntBLTTCQr2d9Oui3b3-EndZe8buRAONUYfG-8bEFYH3-RwSuzna9jAy-oiYw8L1mObvtLX~LgTqsxmKB1Uw2W~ORsYhsoo0rYjEo3KP6x1FUdbUVmRSMm8nYWXBVF57z4mS2QdLoP1QDhHPAdMcLmC5hmJa-omw3k7VEjcMbq5Y-FX06ySFWuTzwAh51LoSuDg2zwuUI1M~zAvXu7tSNo~o73oTa01lt54nK~clA4kGwAy-NKxMNMlbXgMusXNrrkZ5M5ivt7JvpMnzQ__&Key-Pair-Id=K368TLDEUPA6OI \n",
      "Instagram : geistzer \n",
      "Tags : ['Toujours partant(e)', 'Cuisine', 'Art', 'Voyage', 'Sports'] \n",
      "\n",
      "******************\n",
      "Name : Daphné\n",
      "Age : 22\n",
      "Picture : https://images-ssl.gotinder.com/u/ezD4MqQV4t1A72XnuDBPHR/pFb4e19hbwx64XrPfaR3wS.jpg?Policy=eyJTdGF0ZW1lbnQiOiBbeyJSZXNvdXJjZSI6IiovdS9lekQ0TXFRVjR0MUE3MlhudURCUEhSLyoiLCJDb25kaXRpb24iOnsiRGF0ZUxlc3NUaGFuIjp7IkFXUzpFcG9jaFRpbWUiOjE2MTg5MjcwMjR9fX1dfQ__&Signature=n0bc9tfcwf522H6RLLAzIVDHtrmKQeU~ngSgJ~07PLg4JMMvKDKAxSF6jNl5QUOVOVU6pj9JvO4pEcS7V3CLVKBo7Gwp7d64mTNP6IQmbehrwRB-9RaI1a9lqUTEi036bghaqCfmWKkJxYbv5EyPToasXDBjtgoLia9qPwSXGa9wjkbAcl-5TBdFnW7QDbWOLQCvFLslecb7dkgPqzt2NFoH3wok9zzDyjX1gbf-vJ6h-K-PYfv~zdmujeQMUrwLkKKlaVGkUwxaf7vj8ppcNcf9LmeNgLON3sp5rzwUKYmGQG04XcPloKqU1KhgUxY-0OBQtUD~23KRyMFWM7x3Hw__&Key-Pair-Id=K368TLDEUPA6OI \n",
      "Instagram : daphdb \n",
      "Tags : ['Tatouages', 'Art', 'Vin', 'Café', 'Astrologie'] \n",
      "\n",
      "******************\n",
      "Name : Eva\n",
      "Age : 19\n",
      "Picture : https://images-ssl.gotinder.com/u/1nvEishGqpT8wfwze65Tvj/4JDZKiPcDKiUCpo9hi9aoe.jpg?Policy=eyJTdGF0ZW1lbnQiOiBbeyJSZXNvdXJjZSI6IiovdS8xbnZFaXNoR3FwVDh3Znd6ZTY1VHZqLyoiLCJDb25kaXRpb24iOnsiRGF0ZUxlc3NUaGFuIjp7IkFXUzpFcG9jaFRpbWUiOjE2MTg5MjcwMjR9fX1dfQ__&Signature=pMK2ZO3H1aKcqv4iFOLqVc06UVh0LFkCZ-J9oGz2Oc-VMqpfglE72c62wVxm2~johyNYFNCeHi8wiDwCR~IvxD32acTjTBUpzSybUAlR9Xp6KgNAZNkpUGelrGh4pB14V3X4oS8uGdnfMyj9SrC~etFIDI5keLhbSAaU1QuJFrz2cwzRyDBL~~fBlug3OhRa1CFD6D3xFr8golOTewUcaNYfut6x3IL1UIZ07MnZOpr2nl8KmVZbdN7UkzQQYj9OQu8iLz1prjVSAsN1B~tA3h66KNyy3dvmeowdPGjBuDNeJG8jZ7VrCu2Cb6I-focgQb5HeE5avEAKyAQuo6QdeA__&Key-Pair-Id=K368TLDEUPA6OI \n",
      "Instagram : eva.hemsworth \n",
      "Tags : ['Musique', 'Art', 'Fripes', 'Mode', 'Spiritualité'] \n",
      "\n",
      "******************\n",
      "Name : emma\n",
      "Age : 19\n",
      "Picture : https://images-ssl.gotinder.com/5fa82018ed2ff7010004477c/640x800_354d80f1-48c6-4df1-a194-5f333b513cd3.jpg \n",
      "Instagram : emlrt__ \n",
      "Tags : [] \n",
      "\n",
      "******************\n",
      "Name : Mahaut\n",
      "Age : 19\n",
      "Picture : https://images-ssl.gotinder.com/5ed187c91320610100e8fc09/640x800_d6801535-e9d8-4cf1-9514-3b866673de64.jpg \n",
      "Instagram : [''] \n",
      "Tags : ['Musique', 'Sports', 'Fêtes', 'Shopping de seconde main', 'Activisme'] \n",
      "\n",
      "******************\n",
      "Name : Clotilde\n",
      "Age : 18\n",
      "Picture : https://images-ssl.gotinder.com/u/k5J7iacB7VjYxoEdZduLza/mn4h4E14cB81QE5n7kWJyV.jpg?Policy=eyJTdGF0ZW1lbnQiOiBbeyJSZXNvdXJjZSI6IiovdS9rNUo3aWFjQjdWall4b0VkWmR1THphLyoiLCJDb25kaXRpb24iOnsiRGF0ZUxlc3NUaGFuIjp7IkFXUzpFcG9jaFRpbWUiOjE2MTg5MjYzNTR9fX1dfQ__&Signature=ZZmPbCVjJQhlfANhpu444S73BdmZvw-ksBO~-NvtBwBHgbc8cG2ISGwJo4EmPse9miAEelNtOpCb-pb9z0O7aJxj0IEvhCDG4jffY63scoe~vYEUJOiCVlsnpEJzGw0cWSlzzSgThmHIKpWhvrTb2e3~96OtPGaiXTYqqvAgCTsSdwz70GFZ4cXf1z~1dE0HhvNL0tfhMUeRCaKKOwzuNPmK56w6CWBQO5Bmcpr3KFuyv0GzqS3u0H86kYqvR9p~Uat1nR3Oo7qQI-0-wx3W3fj4LmLTJPCKMg2jtsSVZBAfx8trEc-Ki~2Ej0E52MGuorYxyWiJTckPvVMrKmaUEg__&Key-Pair-Id=K368TLDEUPA6OI \n",
      "Instagram : clxtildee_ \n",
      "Tags : ['Mode', 'Expositions', 'Toujours partant(e)', 'Tatouages', 'Art'] \n",
      "\n",
      "******************\n",
      "Name : Célia\n",
      "Age : 19\n",
      "Picture : https://images-ssl.gotinder.com/u/3YRkGGGDd7iPGUZiTrnsg4/8AieWRMqhk81Sf8awQ3yYx.jpg?Policy=eyJTdGF0ZW1lbnQiOiBbeyJSZXNvdXJjZSI6IiovdS8zWVJrR0dHRGQ3aVBHVVppVHJuc2c0LyoiLCJDb25kaXRpb24iOnsiRGF0ZUxlc3NUaGFuIjp7IkFXUzpFcG9jaFRpbWUiOjE2MTg5MjYzNTR9fX1dfQ__&Signature=Nnifz9tdArupGT18AgWmezYhJqjwM15E3Kaf1001UVCTYBzehMuQAB1EE9lDsb4v3UugtRNpfvX4FF0ZXYplDBV1XyFpOA-Gq-7Y-Af79q7C7Mlk2ZuP~cJUpsQ8rFR8fbt2qDIfzLBqB1ycaL71-bsV0lrS4kxguS96R9VGMMdrifU2E7ealxj9j8mONQQGAi2wNRuCUC8SCi0lZ47VmkDe6Aa3XfIJVlUcol5~NImMFx8Zufvt~QP~7hcu~cyoDXQp4iQ7ezwjZujs3JCpXpJlu6tJGyHXm4D6NGS2C7zBSbmx-x8aMV8WNrSwk65rZ--NFPTRo3nICVY2bCan1w__&Key-Pair-Id=K368TLDEUPA6OI \n",
      "Instagram : celiaamng \n",
      "Tags : ['Fripes', 'Toujours partant(e)', 'Fêtes', 'Expositions'] \n",
      "\n",
      "******************\n",
      "Name : Lea\n",
      "Age : 19\n",
      "Picture : https://images-ssl.gotinder.com/601824c1aa2d35010051f019/640x800_11025e13-bdd3-4e6f-8382-879675ea2dc7.jpg \n",
      "Instagram : lea_lprre \n",
      "Tags : ['Netflix', 'Musique', 'Sport', 'Voyage'] \n",
      "\n",
      "******************\n",
      "Name : Lili\n",
      "Age : 19\n",
      "Picture : https://images-ssl.gotinder.com/601c6e5b46e87101008d81bc/640x800_34e685d8-64a7-452e-a721-86935123050b.jpg \n",
      "Instagram : lili_angd \n",
      "Tags : ['Cinéma', 'Netflix', 'Voyage'] \n",
      "\n",
      "******************\n"
     ]
    }
   ],
   "source": [
    "try:\n",
    "    result = es_client.search(index=\"tinderplusplus\", body={\"query\": {\"match_all\": {}}})\n",
    "    ids = []\n",
    "    for hit in result['hits']['hits']:\n",
    "        print(\"Name : {name}\\nAge : {age}\\nPicture : {picture} \\nInstagram : {instagram} \\nTags : {tag} \\n\".format(**hit['_source']))\n",
    "        print(\"******************\")\n",
    "        ids.append(hit[\"_id\"])\n",
    "except:\n",
    "     None"
   ]
  },
  {
   "cell_type": "markdown",
   "metadata": {},
   "source": [
    "### DELETE ALL "
   ]
  },
  {
   "cell_type": "code",
   "execution_count": 191,
   "metadata": {},
   "outputs": [],
   "source": [
    "#es_client.indices.delete(index='tinderplusplus')"
   ]
  },
  {
   "cell_type": "markdown",
   "metadata": {},
   "source": [
    "### CLOSE BROWSER"
   ]
  },
  {
   "cell_type": "code",
   "execution_count": 140,
   "metadata": {
    "scrolled": true
   },
   "outputs": [],
   "source": [
    "driver.close()"
   ]
  },
  {
   "cell_type": "code",
   "execution_count": null,
   "metadata": {},
   "outputs": [],
   "source": []
  }
 ],
 "metadata": {
  "kernelspec": {
   "display_name": "Python 3",
   "language": "python",
   "name": "python3"
  },
  "language_info": {
   "codemirror_mode": {
    "name": "ipython",
    "version": 3
   },
   "file_extension": ".py",
   "mimetype": "text/x-python",
   "name": "python",
   "nbconvert_exporter": "python",
   "pygments_lexer": "ipython3",
   "version": "3.8.3"
  }
 },
 "nbformat": 4,
 "nbformat_minor": 4
}
